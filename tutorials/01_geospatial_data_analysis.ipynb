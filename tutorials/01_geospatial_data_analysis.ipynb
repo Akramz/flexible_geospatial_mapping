{
 "cells": [
  {
   "cell_type": "markdown",
   "metadata": {
    "id": "TiGaNczcM9Vu"
   },
   "source": [
    "# Geospatial Data Analysis\n",
    "\n",
    "<a href=\"https://colab.research.google.com/github/interactive_geospatial_mapping/blob/main/tutorials/01_geospatial_data_analysis.ipynb\" target=\"_parent\"><img src=\"https://colab.research.google.com/assets/colab-badge.svg\" alt=\"Open In Colab\"/></a>\n",
    "\n",
    "Before we start you need to download (and then extract) the dataset zip-package used during this lesson from this [link](https://github.com/Automating-GIS-processes/Lesson-5-Making-Maps/raw/master/data/dataE5.zip).\n",
    "\n",
    "You should have following Shapefiles in the dataE5 folder:\n",
    "\n",
    "- `addresses.shp`\n",
    "- `metro.shp`\n",
    "- `roads.shp`\n",
    "- `some.geojson`\n",
    "- `TravelTimes_to_5975375_RailwayStation.shp`\n",
    "- `Vaestotietoruudukko_2015.shp`\n",
    "\n",
    "Extract the files into a folder called data:"
   ]
  },
  {
   "cell_type": "code",
   "execution_count": null,
   "metadata": {},
   "outputs": [],
   "source": [
    "import os\n",
    "from pathlib import Path\n",
    "from IPython.core.debugger import set_trace"
   ]
  },
  {
   "cell_type": "code",
   "execution_count": null,
   "metadata": {},
   "outputs": [],
   "source": [
    "# Set the data store path\n",
    "data_store = Path(\"./data/supplementary/\")\n",
    "data_store.mkdir(parents=True, exist_ok=True)"
   ]
  },
  {
   "cell_type": "markdown",
   "metadata": {},
   "source": [
    "Let's download the data:"
   ]
  },
  {
   "cell_type": "code",
   "execution_count": null,
   "metadata": {},
   "outputs": [],
   "source": [
    "!wget https://github.com/Automating-GIS-processes/Lesson-5-Making-Maps/raw/master/data/dataE5.zip -P {data_store}"
   ]
  },
  {
   "cell_type": "code",
   "execution_count": null,
   "metadata": {},
   "outputs": [],
   "source": [
    "!unzip {data_store}/dataE5.zip -d {data_store}"
   ]
  },
  {
   "cell_type": "markdown",
   "metadata": {
    "id": "yifjISisFxet"
   },
   "source": [
    "# Static maps\n",
    "\n",
    "## Static maps in geopandas\n",
    "\n",
    "resh our memory about the basics of plotting maps by creating a static accessibility map with roads and metro line on it (three layers on top of each other in the same figure). Before plotting the layers, we need to check that they are in the same coordinate reference system.\n",
    "\n",
    "As usual, we start by importing the useful modules and reading in the input files:"
   ]
  },
  {
   "cell_type": "code",
   "execution_count": null,
   "metadata": {
    "id": "VMVLiW6qOuVa"
   },
   "outputs": [],
   "source": [
    "!pip install contextily"
   ]
  },
  {
   "cell_type": "code",
   "execution_count": null,
   "metadata": {
    "id": "aOc9g4jhGrkx"
   },
   "outputs": [],
   "source": [
    "import geopandas as gpd\n",
    "import matplotlib.pyplot as plt\n",
    "import geopandas as gpd\n",
    "from pyproj import CRS\n",
    "import contextily as ctx\n",
    "\n",
    "# Filepaths\n",
    "grid_fp = data_store / \"dataE5/TravelTimes_to_5975375_RailwayStation.shp\"\n",
    "roads_fp = data_store / \"dataE5/roads.shp\"\n",
    "metro_fp = data_store / \"dataE5/metro.shp\"\n",
    "\n",
    "# Read files\n",
    "grid = gpd.read_file(grid_fp)\n",
    "roads = gpd.read_file(roads_fp)\n",
    "metro = gpd.read_file(metro_fp)"
   ]
  },
  {
   "cell_type": "markdown",
   "metadata": {
    "id": "TKFB97YxFxew"
   },
   "source": [
    "Let's check the coordinate reference systems (crs) of the input files."
   ]
  },
  {
   "cell_type": "code",
   "execution_count": null,
   "metadata": {
    "colab": {
     "base_uri": "https://localhost:8080/"
    },
    "id": "i3HfcfwnFxex",
    "jupyter": {
     "outputs_hidden": false
    },
    "outputId": "9b292c1d-d34a-4033-bdad-81aba4a2ae80"
   },
   "outputs": [],
   "source": [
    "# Check the crs of each layer\n",
    "print(roads.crs)\n",
    "print(metro.crs)\n",
    "print(grid.crs)"
   ]
  },
  {
   "cell_type": "code",
   "execution_count": null,
   "metadata": {
    "colab": {
     "base_uri": "https://localhost:8080/",
     "height": 988
    },
    "id": "RNdtlWy1zyT9",
    "outputId": "06ea94d0-da21-42b6-ab78-d0665843d092"
   },
   "outputs": [],
   "source": [
    "roads.head()"
   ]
  },
  {
   "cell_type": "code",
   "execution_count": null,
   "metadata": {},
   "outputs": [],
   "source": [
    "metro.head()"
   ]
  },
  {
   "cell_type": "code",
   "execution_count": null,
   "metadata": {},
   "outputs": [],
   "source": [
    "grid.head()"
   ]
  },
  {
   "cell_type": "markdown",
   "metadata": {
    "id": "7lACVGesFxex"
   },
   "source": [
    "Roads and the metro are in an old Finnish crs (`EPSG:2392`), while the grid is in ETRS89 / TM35FIN (`EPSG:3067`):"
   ]
  },
  {
   "cell_type": "code",
   "execution_count": null,
   "metadata": {
    "colab": {
     "base_uri": "https://localhost:8080/"
    },
    "id": "sUCIpTEAFxey",
    "jupyter": {
     "outputs_hidden": false
    },
    "outputId": "4cb73ba1-250a-4e86-dbe6-b837d52b7a28"
   },
   "outputs": [],
   "source": [
    "# Check CRS names\n",
    "print(f\"Roads crs: {CRS(roads.crs).name}\")\n",
    "print(f\"Metro crs: {CRS(metro.crs).name}\")\n",
    "print(f\"Grid crs: {CRS(grid.crs).name}\")"
   ]
  },
  {
   "cell_type": "markdown",
   "metadata": {
    "id": "MjcwXV6WFxey"
   },
   "source": [
    "Let's re-project geometries to ETRS89 / TM35FIN based on the grid crs:"
   ]
  },
  {
   "cell_type": "code",
   "execution_count": null,
   "metadata": {
    "id": "cHkkcN15Fxey",
    "jupyter": {
     "outputs_hidden": false
    }
   },
   "outputs": [],
   "source": [
    "# Reproject geometries to ETRS89 / TM35FIN based on the grid crs:\n",
    "roads = roads.to_crs(crs=grid.crs)\n",
    "metro = metro.to_crs(crs=grid.crs)"
   ]
  },
  {
   "cell_type": "markdown",
   "metadata": {
    "id": "pf_RLuqbFxey"
   },
   "source": [
    "Now the layers should be in the same crs"
   ]
  },
  {
   "cell_type": "code",
   "execution_count": null,
   "metadata": {
    "colab": {
     "base_uri": "https://localhost:8080/"
    },
    "id": "bJMMrO9EFxey",
    "jupyter": {
     "outputs_hidden": false
    },
    "outputId": "084c9f6f-313f-4f03-a64e-603ff88053bc"
   },
   "outputs": [],
   "source": [
    "roads.crs == metro.crs == grid.crs"
   ]
  },
  {
   "cell_type": "markdown",
   "metadata": {
    "id": "Q9ha_gLsFxez"
   },
   "source": [
    "Once the data are in the same projection, we can plot them on a map.\n",
    "\n",
    "<div class=\"alert alert-info\">\n",
    "\n",
    "**Check your understanding**\n",
    "\n",
    "- Make a visualization using the `plot()` -function in Geopandas\n",
    "- plot first the grid using \"quantiles\" classification scheme\n",
    "- then add roads and metro in the same plot\n",
    "\n",
    "</div>"
   ]
  },
  {
   "cell_type": "code",
   "execution_count": null,
   "metadata": {},
   "outputs": [],
   "source": [
    "import contextily as ctx\n",
    "\n",
    "fig, ax = plt.subplots(figsize=(12, 8))\n",
    "grid.plot(ax=ax, color=\"white\", edgecolor=\"black\", linewidth=0.2, alpha=0.5)\n",
    "roads.plot(ax=ax, color=\"red\", linewidth=1.2)\n",
    "metro.plot(ax=ax, color=\"black\", linewidth=2.5)\n",
    "ctx.add_basemap(ax, crs=grid.crs.to_string())\n",
    "plt.show()"
   ]
  },
  {
   "cell_type": "markdown",
   "metadata": {
    "id": "4YAQWioAFxez"
   },
   "source": [
    "Plotting options for the polygon:\n",
    "\n",
    "- Define the classification scheme using the `scheme` parameter\n",
    "- Change the colormap using the `cmap` parameter. See [colormap options from matplotlib documentation](https://matplotlib.org/3.1.0/tutorials/colors/colormaps.html#choosing-colormaps-in-matplotlib).\n",
    "- You can add a little bit of transparency for the grid using the `alpha` parameter (ranges from 0 to 1 where 0 is fully transparent)\n",
    "\n",
    "Plotting options fo the lines:\n",
    "\n",
    " - adjust color using `color` parameter. See [color options from matplotlib pyplot documentation](https://matplotlib.org/api/pyplot_api.html#matplotlib.pyplot.colors).\n",
    " - change `linewidth` if needed\n",
    "\n",
    "For better control of the figure and axes, use the plt.subplots function before plotting the layers. See more info in [matplotlib documentation](https://matplotlib.org/3.3.3/gallery/subplots_axes_and_figures/subplots_demo.html#a-figure-with-just-one-subplot)."
   ]
  },
  {
   "cell_type": "code",
   "execution_count": null,
   "metadata": {
    "colab": {
     "base_uri": "https://localhost:8080/"
    },
    "id": "0F1IT0xwQCgD",
    "outputId": "bdf1314b-21a1-4521-f298-885d7128c409"
   },
   "outputs": [],
   "source": [
    "!pip install mapclassify"
   ]
  },
  {
   "cell_type": "code",
   "execution_count": null,
   "metadata": {
    "colab": {
     "base_uri": "https://localhost:8080/",
     "height": 807
    },
    "id": "0jzYAS1DFxez",
    "jupyter": {
     "outputs_hidden": false
    },
    "outputId": "7f9cf3fd-5e6c-452b-c3ec-569bd794b897"
   },
   "outputs": [],
   "source": [
    "import mapclassify\n",
    "\n",
    "# Create one subplot. Control figure size in here.\n",
    "fig, ax = plt.subplots(figsize=(12, 8))\n",
    "\n",
    "# Visualize the travel times into 9 classes using \"Quantiles\" classification scheme\n",
    "grid.plot(\n",
    "    ax=ax,\n",
    "    column=\"car_r_t\",\n",
    "    linewidth=0.03,\n",
    "    cmap=\"Spectral\",\n",
    "    scheme=\"quantiles\",\n",
    "    k=9,\n",
    "    alpha=0.9,\n",
    ")\n",
    "\n",
    "# Add roads on top of the grid\n",
    "# (use ax parameter to define the map on top of which the second items are plotted)\n",
    "roads.plot(ax=ax, color=\"grey\", linewidth=1.5)\n",
    "\n",
    "# Add metro on top of the previous map\n",
    "metro.plot(ax=ax, color=\"red\", linewidth=2.5)\n",
    "\n",
    "# Remove the empty white-space around the axes\n",
    "plt.tight_layout()\n",
    "\n",
    "# Save the figure as png file with resolution of 300 dpi\n",
    "outfp = \"static_map.png\"\n",
    "plt.savefig(outfp, dpi=300)"
   ]
  },
  {
   "cell_type": "markdown",
   "metadata": {
    "id": "Eq3yKudvFxez"
   },
   "source": [
    "## Adding a legend\n",
    "\n",
    "It is possible to enable legend for a geopandas plot by setting `legend=True` in the plotting parameters.\n",
    "If plotting the figure without a classification scheme you get a color bar as the legend item and it is easy to add a label for the legend using `legend_kwds`. You can read more about creating a legend via geopandas [in here](https://geopandas.org/mapping.html#creating-a-legend)."
   ]
  },
  {
   "cell_type": "code",
   "execution_count": null,
   "metadata": {
    "colab": {
     "base_uri": "https://localhost:8080/",
     "height": 398
    },
    "id": "ZT5cETw_Fxe0",
    "jupyter": {
     "outputs_hidden": false
    },
    "outputId": "4ebcc552-e022-40ec-966d-8fe4294e9d99"
   },
   "outputs": [],
   "source": [
    "# Create one subplot. Control figure size in here.\n",
    "fig, ax = plt.subplots(figsize=(6, 4))\n",
    "\n",
    "# Visualize the travel times into 9 classes using \"Quantiles\" classification scheme\n",
    "grid.plot(\n",
    "    ax=ax,\n",
    "    column=\"car_r_t\",\n",
    "    linewidth=0.03,\n",
    "    cmap=\"Spectral\",\n",
    "    alpha=0.9,\n",
    "    legend=True,\n",
    "    legend_kwds={\"label\": \"Travel time (min)\"},\n",
    ")\n",
    "\n",
    "# ax.get_legend().set_bbox_to_anchor(8)\n",
    "# ax.get_legend().set_title(\"Legend title\")\n",
    "\n",
    "# Remove the empty white-space around the axes\n",
    "plt.tight_layout()"
   ]
  },
  {
   "cell_type": "markdown",
   "metadata": {
    "id": "j_a7kM6xFxe0"
   },
   "source": [
    "If plotting a map using a classification scheme, we get a different kind of ledend that shows the class values. In this case, we can control the position and title of the legend using matplotlib tools. We first need to access the [Legend object](https://matplotlib.org/3.3.2/api/legend_api.html#matplotlib.legend.Legend) and then change it's properties."
   ]
  },
  {
   "cell_type": "code",
   "execution_count": null,
   "metadata": {
    "colab": {
     "base_uri": "https://localhost:8080/",
     "height": 506
    },
    "id": "PoHVfpILFxe0",
    "jupyter": {
     "outputs_hidden": false
    },
    "outputId": "35ca099a-3475-44bf-a7b0-35db673febcb"
   },
   "outputs": [],
   "source": [
    "# Create one subplot. Control figure size in here.\n",
    "fig, ax = plt.subplots(figsize=(10, 5))\n",
    "\n",
    "# Visualize the travel times into 9 classes using \"Quantiles\" classification scheme\n",
    "grid.plot(\n",
    "    ax=ax,\n",
    "    column=\"car_r_t\",\n",
    "    linewidth=0.03,\n",
    "    cmap=\"Spectral\",\n",
    "    scheme=\"quantiles\",\n",
    "    k=9,\n",
    "    legend=True,\n",
    ")\n",
    "\n",
    "# Re-position the legend and set a title\n",
    "ax.get_legend().set_bbox_to_anchor((1.3, 1))\n",
    "ax.get_legend().set_title(\"Travel time (min)\")\n",
    "\n",
    "# Remove the empty white-space around the axes\n",
    "plt.tight_layout()"
   ]
  },
  {
   "cell_type": "markdown",
   "metadata": {
    "id": "KiuldRKAFxe0"
   },
   "source": [
    "You can read more info about adjusting legends in the matplotlig [legend guide](https://matplotlib.org/tutorials/intermediate/legend_guide.html).\n",
    "\n",
    "## Adding basemap from external source\n",
    "\n",
    "It is often useful to add a basemap to your visualization that shows e.g. streets, placenames and other contextual information. This can be done easily by using ready-made background map tiles such as [OpenStreetMap](https://wiki.openstreetmap.org/wiki/Tiles) or [Stamen Design](http://maps.stamen.com). A Python library called [contextily](https://github.com/darribas/contextily) is a handy package that can be used to fetch geospatial raster files and add them to your maps. Map tiles are typically distributed in [Web Mercator projection (EPSG:3857)](http://spatialreference.org/ref/sr-org/epsg3857-wgs84-web-mercator-auxiliary-sphere/), hence **it is often necessary to reproject all the spatial data into** [Web Mercator](https://en.wikipedia.org/wiki/Web_Mercator_projection) before visualizing the data.\n",
    "\n",
    "In this tutorial, we will see how to add a basemap underneath our previous visualization.\n",
    "Check the input crs:"
   ]
  },
  {
   "cell_type": "code",
   "execution_count": null,
   "metadata": {
    "colab": {
     "base_uri": "https://localhost:8080/"
    },
    "id": "SQ3udE6XFxe1",
    "jupyter": {
     "outputs_hidden": false
    },
    "outputId": "f993e0aa-bdad-47b8-a188-a66cf31b0984"
   },
   "outputs": [],
   "source": [
    "print(grid.crs)"
   ]
  },
  {
   "cell_type": "markdown",
   "metadata": {
    "id": "V_4HlnhzFxe1"
   },
   "source": [
    "Reproject the layer to ESPG 3857 projection (Web Mercator):"
   ]
  },
  {
   "cell_type": "code",
   "execution_count": null,
   "metadata": {
    "colab": {
     "base_uri": "https://localhost:8080/"
    },
    "id": "y7_nJAc4Fxe1",
    "jupyter": {
     "outputs_hidden": false
    },
    "outputId": "218b51dd-de6d-4900-dede-6cf4973a4161"
   },
   "outputs": [],
   "source": [
    "# Reproject to EPSG 3857\n",
    "data = grid.to_crs(epsg=3857)\n",
    "print(data.crs)"
   ]
  },
  {
   "cell_type": "markdown",
   "metadata": {
    "id": "rcDgHlcjFxe1"
   },
   "source": [
    "Now the crs is `epsg:3857`. Also the coordinate values in the `geometry` column have changed:"
   ]
  },
  {
   "cell_type": "code",
   "execution_count": null,
   "metadata": {
    "colab": {
     "base_uri": "https://localhost:8080/",
     "height": 226
    },
    "id": "VnC5D6EYFxe1",
    "jupyter": {
     "outputs_hidden": false
    },
    "outputId": "a5f392fb-3a89-4bb8-b5a2-f05b0ccad0f5"
   },
   "outputs": [],
   "source": [
    "data.head(2)"
   ]
  },
  {
   "cell_type": "markdown",
   "metadata": {
    "id": "MSuc46xRFxe2"
   },
   "source": [
    "Next, we can plot our data using geopandas and add a basemap for our plot by using a function called `add_basemap()` from contextily:"
   ]
  },
  {
   "cell_type": "code",
   "execution_count": null,
   "metadata": {
    "colab": {
     "base_uri": "https://localhost:8080/",
     "height": 710
    },
    "id": "xi1l5rVcFxe2",
    "jupyter": {
     "outputs_hidden": false
    },
    "outputId": "d5f678d8-00ef-440e-95b8-e0247c9ede1d"
   },
   "outputs": [],
   "source": [
    "# Control figure size in here\n",
    "fig, ax = plt.subplots(figsize=(12, 8))\n",
    "\n",
    "# Plot the data\n",
    "data.plot(\n",
    "    ax=ax,\n",
    "    column=\"pt_r_t\",\n",
    "    cmap=\"RdYlBu\",\n",
    "    linewidth=0,\n",
    "    scheme=\"quantiles\",\n",
    "    k=9,\n",
    "    alpha=0.6,\n",
    ")\n",
    "\n",
    "# Add basemap\n",
    "ctx.add_basemap(ax)"
   ]
  },
  {
   "cell_type": "markdown",
   "metadata": {
    "id": "hddSIGZpFxe2"
   },
   "source": [
    "As we can see, now the map has a background map that is by default using the Stamen Terrain background from [Stamen Design](http://maps.stamen.com/#terrain).\n",
    "\n",
    "There are also various other possible data sources and styles for background maps.\n",
    "\n",
    "Contextily's `tile_providers` contain a list of providers and styles that can be used to control the appearence of your background map:"
   ]
  },
  {
   "cell_type": "code",
   "execution_count": null,
   "metadata": {
    "colab": {
     "base_uri": "https://localhost:8080/"
    },
    "id": "55-8_jN9Fxe2",
    "jupyter": {
     "outputs_hidden": false
    },
    "outputId": "930b2b68-ff98-49c7-85a8-68807ee8da75"
   },
   "outputs": [],
   "source": [
    "dir(ctx.providers)"
   ]
  },
  {
   "cell_type": "markdown",
   "metadata": {
    "id": "-8at8ZT-Fxe2"
   },
   "source": [
    "There are multiple style options for most of these providers, for example:"
   ]
  },
  {
   "cell_type": "code",
   "execution_count": null,
   "metadata": {
    "colab": {
     "base_uri": "https://localhost:8080/"
    },
    "id": "QMeWVoKhFxe2",
    "jupyter": {
     "outputs_hidden": false
    },
    "outputId": "2dfef561-36ae-4aa3-ee11-3109c60816a8"
   },
   "outputs": [],
   "source": [
    "ctx.providers.OpenStreetMap.keys()"
   ]
  },
  {
   "cell_type": "markdown",
   "metadata": {
    "id": "STqjila3Fxe3"
   },
   "source": [
    "It is possible to change the tile provider using the `source` parameter in `add_basemap()` function. Let's see how we can change the bacground map as the basic OpenStreetMap background:"
   ]
  },
  {
   "cell_type": "code",
   "execution_count": null,
   "metadata": {
    "colab": {
     "base_uri": "https://localhost:8080/",
     "height": 710
    },
    "id": "V7Mxirm0Fxe3",
    "jupyter": {
     "outputs_hidden": false
    },
    "outputId": "644da6aa-26b8-4b59-fabe-8759ed173f9a"
   },
   "outputs": [],
   "source": [
    "# Control figure size in here\n",
    "fig, ax = plt.subplots(figsize=(12, 8))\n",
    "\n",
    "# Plot the data\n",
    "data.plot(\n",
    "    ax=ax,\n",
    "    column=\"pt_r_t\",\n",
    "    cmap=\"RdYlBu\",\n",
    "    linewidth=0,\n",
    "    scheme=\"quantiles\",\n",
    "    k=9,\n",
    "    alpha=0.6,\n",
    ")\n",
    "\n",
    "# Add basemap with basic OpenStreetMap visualization\n",
    "ctx.add_basemap(ax, source=ctx.providers.OpenStreetMap.Mapnik)"
   ]
  },
  {
   "cell_type": "markdown",
   "metadata": {
    "id": "_qLnq21LFxe3"
   },
   "source": [
    " Let's take a subset of our data to see a bit better the background map characteristics:"
   ]
  },
  {
   "cell_type": "code",
   "execution_count": null,
   "metadata": {
    "colab": {
     "base_uri": "https://localhost:8080/",
     "height": 710
    },
    "id": "EwEj2DRfFxe3",
    "jupyter": {
     "outputs_hidden": false
    },
    "outputId": "d4c67eb3-06c6-4aa6-a48f-2d822b8d1688"
   },
   "outputs": [],
   "source": [
    "# Control figure size in here\n",
    "fig, ax = plt.subplots(figsize=(12, 8))\n",
    "\n",
    "# Subset the data to seel only grid squares near the destination\n",
    "subset = data.loc[(data[\"pt_r_t\"] >= 0) & (data[\"pt_r_t\"] <= 15)]\n",
    "\n",
    "# Plot the data from subset\n",
    "subset.plot(\n",
    "    ax=ax,\n",
    "    column=\"pt_r_t\",\n",
    "    cmap=\"RdYlBu\",\n",
    "    linewidth=0,\n",
    "    scheme=\"quantiles\",\n",
    "    k=5,\n",
    "    alpha=0.6,\n",
    ")\n",
    "\n",
    "# Add basemap with `OSM_A` style\n",
    "ctx.add_basemap(ax, source=ctx.providers.OpenStreetMap.Mapnik)"
   ]
  },
  {
   "cell_type": "markdown",
   "metadata": {
    "id": "Zj-hzHzVFxe3"
   },
   "source": [
    "As we can see now our map has much more details in it as the zoom level of the background map is larger. By default `contextily` sets the zoom level automatically but it is possible to also control that manually using parameter `zoom`. The zoom level is by default specified as `auto` but you can control that by passing in [zoom level](https://wiki.openstreetmap.org/wiki/Zoom_levels) as numbers ranging typically from 1 to 19 (the larger the number, the more details your basemap will have).\n",
    "\n",
    "- Let's reduce the level of detail from our map by passing `zoom=11`:\n"
   ]
  },
  {
   "cell_type": "code",
   "execution_count": null,
   "metadata": {
    "colab": {
     "base_uri": "https://localhost:8080/",
     "height": 710
    },
    "id": "8dz_b3oPFxe3",
    "jupyter": {
     "outputs_hidden": false
    },
    "outputId": "d34319c6-9c01-4fbd-cdf7-8c53598bf4c6"
   },
   "outputs": [],
   "source": [
    "# Control figure size in here\n",
    "fig, ax = plt.subplots(figsize=(12, 8))\n",
    "\n",
    "# Plot the data from subset\n",
    "subset.plot(\n",
    "    ax=ax,\n",
    "    column=\"pt_r_t\",\n",
    "    cmap=\"RdYlBu\",\n",
    "    linewidth=0,\n",
    "    scheme=\"quantiles\",\n",
    "    k=5,\n",
    "    alpha=0.6,\n",
    ")\n",
    "\n",
    "# Add basemap with `OSM_A` style using zoom level of 11\n",
    "ctx.add_basemap(ax, zoom=11, source=ctx.providers.OpenStreetMap.Mapnik)"
   ]
  },
  {
   "cell_type": "markdown",
   "metadata": {
    "id": "OGzhgocdFxe3"
   },
   "source": [
    "As we can see, the map has now less detail (a bit too blurry for such a small area).\n",
    "\n",
    "We can also use `ax.set_xlim()` and `ax.set_ylim()` -parameters to crop our map without altering the data. The parameters takes as input the coordinates for minimum and maximum on both axis (x and y). We can also change / remove the contribution text by using parameter `attribution`\n",
    "\n",
    "Let's add details about the data source, plot the original data, and crop the map:"
   ]
  },
  {
   "cell_type": "code",
   "execution_count": null,
   "metadata": {
    "id": "QiJHablXFxe4",
    "jupyter": {
     "outputs_hidden": false
    },
    "pycharm": {
     "name": "#%%\n"
    }
   },
   "outputs": [],
   "source": [
    "credits = \"Travel time data by Tenkanen & Toivonen (2020), Map Data © OpenStreetMap contributors\""
   ]
  },
  {
   "cell_type": "code",
   "execution_count": null,
   "metadata": {
    "colab": {
     "base_uri": "https://localhost:8080/",
     "height": 727
    },
    "id": "pOv51lxnFxe4",
    "jupyter": {
     "outputs_hidden": false
    },
    "outputId": "20bcbde4-25ff-4c03-a3f6-5faf8b514741"
   },
   "outputs": [],
   "source": [
    "# Control figure size in here\n",
    "fig, ax = plt.subplots(figsize=(12, 8))\n",
    "\n",
    "# Plot the data\n",
    "data.plot(\n",
    "    ax=ax,\n",
    "    column=\"pt_r_t\",\n",
    "    cmap=\"RdYlBu\",\n",
    "    linewidth=0,\n",
    "    scheme=\"quantiles\",\n",
    "    k=9,\n",
    "    alpha=0.6,\n",
    ")\n",
    "\n",
    "# Add basemap with `OSM_A` style using zoom level of 11\n",
    "# Modify the attribution\n",
    "ctx.add_basemap(\n",
    "    ax, zoom=11, attribution=credits, source=ctx.providers.OpenStreetMap.Mapnik\n",
    ")\n",
    "\n",
    "# Crop the figure\n",
    "ax.set_xlim(2760000, 2800000)\n",
    "ax.set_ylim(8430000, 8470000)"
   ]
  },
  {
   "cell_type": "markdown",
   "metadata": {
    "id": "yHEsFMYEFxe4"
   },
   "source": [
    "It is also possible to use many other map tiles from different [Tile Map Services](https://en.m.wikipedia.org/wiki/Tile_Map_Service) as the background map. A good list of different available sources can be found from [here](http://leaflet-extras.github.io/leaflet-providers/preview/). When using map tiles from different sources, it is necessary to parse a url address to the tile provider following a format defined by the provider.\n",
    "\n",
    "Next, we will see how to use map tiles provided by CartoDB. To do that we need to parse the url address following their [definition](https://github.com/CartoDB/basemap-styles#1-web-raster-basemaps) `'https://{s}.basemaps.cartocdn.com/{style}/{z}/{x}/{y}{scale}.png'` where:\n",
    "\n",
    " - {s}: one of the available subdomains, either [a,b,c,d]\n",
    " - {z} : Zoom level. We support from 0 to 20 zoom levels in OSM tiling system.\n",
    " - {x},{y}: Tile coordinates in OSM tiling system\n",
    " - {scale}: OPTIONAL \"@2x\" for double resolution tiles\n",
    " - {style}: Map style, possible value is one of:\n",
    "\n",
    "    - light_all,\n",
    "    - dark_all,\n",
    "    - light_nolabels,\n",
    "    - light_only_labels,\n",
    "    - dark_nolabels,\n",
    "    - dark_only_labels,\n",
    "    - rastertiles/voyager,\n",
    "    - rastertiles/voyager_nolabels,\n",
    "    - rastertiles/voyager_only_labels,\n",
    "    - rastertiles/voyager_labels_under\n",
    "    \n",
    "- We will use this information to parse the parameters in a way that contextily wants them:"
   ]
  },
  {
   "cell_type": "code",
   "execution_count": null,
   "metadata": {
    "colab": {
     "base_uri": "https://localhost:8080/",
     "height": 576
    },
    "id": "hUXt2tJMFxe4",
    "jupyter": {
     "outputs_hidden": false
    },
    "outputId": "087a1cd1-c24c-4ce7-96d6-23109e37ae92"
   },
   "outputs": [],
   "source": [
    "# Control figure size in here\n",
    "fig, ax = plt.subplots(figsize=(12, 8))\n",
    "\n",
    "# The formatting should follow: 'https://{s}.basemaps.cartocdn.com/{style}/{z}/{x}/{y}{scale}.png'\n",
    "# Specify the style to use\n",
    "style = \"rastertiles/voyager\"\n",
    "cartodb_url = f\"https://a.basemaps.cartocdn.com/{style}/{{z}}/{{x}}/{{y}}.png\"\n",
    "\n",
    "# Plot the data from subset\n",
    "subset.plot(\n",
    "    ax=ax,\n",
    "    column=\"pt_r_t\",\n",
    "    cmap=\"RdYlBu\",\n",
    "    linewidth=0,\n",
    "    scheme=\"quantiles\",\n",
    "    k=5,\n",
    "    alpha=0.6,\n",
    ")\n",
    "\n",
    "# Add basemap with `OSM_A` style using zoom level of 14\n",
    "ctx.add_basemap(ax, zoom=14, attribution=\"\", source=cartodb_url)\n",
    "\n",
    "# Crop the figure\n",
    "_ = ax.set_xlim(2770000, 2785000)\n",
    "_ = ax.set_ylim(8435000, 8442500)"
   ]
  },
  {
   "cell_type": "markdown",
   "metadata": {
    "id": "3oHgBtEQFxe5"
   },
   "source": [
    "As we can see now we have yet again different kind of background map, now coming from CartoDB.\n",
    "\n",
    "Let's make a minor modification and change the style from `\"rastertiles/voyager\"` to `\"dark_all\"`:"
   ]
  },
  {
   "cell_type": "code",
   "execution_count": null,
   "metadata": {
    "id": "_eWK65xZFxe5",
    "outputId": "f4978c30-7aae-4852-931a-b3338030a4c2"
   },
   "outputs": [],
   "source": [
    "# Control figure size in here\n",
    "fig, ax = plt.subplots(figsize=(12, 8))\n",
    "\n",
    "# The formatting should follow: 'https://{s}.basemaps.cartocdn.com/{style}/{z}/{x}/{y}{r}.png'\n",
    "# Specify the style to use\n",
    "style = \"dark_all\"\n",
    "cartodb_url = f\"https://a.basemaps.cartocdn.com/{style}/{{z}}/{{x}}/{{y}}.png\"\n",
    "\n",
    "# Plot the data from subset\n",
    "subset.plot(\n",
    "    ax=ax,\n",
    "    column=\"pt_r_t\",\n",
    "    cmap=\"RdYlBu\",\n",
    "    linewidth=0,\n",
    "    scheme=\"quantiles\",\n",
    "    k=5,\n",
    "    alpha=0.6,\n",
    ")\n",
    "\n",
    "# Add basemap with `OSM_A` style using zoom level of 14\n",
    "ctx.add_basemap(ax, zoom=13, attribution=\"\", source=cartodb_url)\n",
    "\n",
    "# Crop the figure\n",
    "_ = ax.set_xlim(2770000, 2785000)\n",
    "_ = ax.set_ylim(8435000, 8442500)"
   ]
  },
  {
   "cell_type": "markdown",
   "metadata": {
    "id": "wTvMMLPkFxe5"
   },
   "source": [
    "Great! Now we have dark background map fetched from CartoDB. In a similar manner, you can use any map tiles from various other tile providers such as the ones listed in [leaflet-providers](http://leaflet-extras.github.io/leaflet-providers/preview/)."
   ]
  },
  {
   "cell_type": "markdown",
   "metadata": {
    "id": "-0y1dIuwFxe5"
   },
   "source": [
    "# Data reclassification\n",
    "\n",
    "Reclassifying data based on specific criteria is a common task when doing GIS analysis. The purpose of this lesson is to see how we can reclassify values based on some criteria. We could, for example, classify information based on travel times and housing prices using these criteria:\n",
    "\n",
    "```\n",
    "1. if travel time to my work is less than 30 minutes\n",
    "\n",
    "    AND\n",
    "\n",
    "    2. the rent of the apartment is less than 1000 € per month\n",
    "\n",
    "    ------------------------------------------------------\n",
    "\n",
    "    IF TRUE: ==> I go to view it and try to rent the apartment\n",
    "    IF NOT TRUE: ==> I continue looking for something else\n",
    "```\n",
    "\n",
    "In this tutorial, we will:\n",
    "\n",
    "1. Use classification schemes from the PySAL [mapclassify library](https://pysal.org/mapclassify/) to classify travel times into multiple classes.\n",
    "\n",
    "2. Create a custom classifier to classify travel times and distances in order to find out good locations to buy an apartment with these conditions:\n",
    "   - good public transport accessibility to city center\n",
    "   - bit further away from city center where the prices are presumably lower\n"
   ]
  },
  {
   "cell_type": "markdown",
   "metadata": {
    "id": "7AwQUT_iFxe6"
   },
   "source": [
    "## Common classifiers\n",
    "\n",
    "### Classification schemes for thematic maps"
   ]
  },
  {
   "cell_type": "markdown",
   "metadata": {
    "id": "Y1iMNM4XFxe6"
   },
   "source": [
    "[PySAL](https://pysal.org/) -module is an extensive Python library for spatial analysis. It also includes all of the most common data classifiers that are used commonly e.g. when visualizing data. Available map classifiers in [pysal's mapclassify -module](https://github.com/pysal/mapclassify):\n",
    "\n",
    " - Box_Plot\n",
    " - Equal_Interval\n",
    " - Fisher_Jenks\n",
    " - Fisher_Jenks_Sampled\n",
    " - HeadTail_Breaks\n",
    " - Jenks_Caspall\n",
    " - Jenks_Caspall_Forced\n",
    " - Jenks_Caspall_Sampled\n",
    " - Max_P_Classifier\n",
    " - Maximum_Breaks\n",
    " - Natural_Breaks\n",
    " - Quantiles\n",
    " - Percentiles\n",
    " - Std_Mean\n",
    " - User_Defined\n",
    "\n",
    " First, we need to read our Travel Time data from Helsinki:\n",
    "<!-- #endregion -->"
   ]
  },
  {
   "cell_type": "code",
   "execution_count": null,
   "metadata": {
    "colab": {
     "base_uri": "https://localhost:8080/",
     "height": 424
    },
    "id": "D9Uj-9WrFxe6",
    "jupyter": {
     "outputs_hidden": false
    },
    "outputId": "a399c556-bd6a-436e-d66e-d150b0b1f7dc"
   },
   "outputs": [],
   "source": [
    "import geopandas as gpd\n",
    "\n",
    "\n",
    "# Read the GeoJSON file similarly as Shapefile\n",
    "acc = data.copy()\n",
    "\n",
    "# Let's see what we have\n",
    "acc.head()"
   ]
  },
  {
   "cell_type": "markdown",
   "metadata": {
    "id": "3yZb08r8Fxe6"
   },
   "source": [
    "As we can see, there are plenty of different variables (see [from here the description](http://blogs.helsinki.fi/accessibility/helsinki-region-travel-time-matrix-2015) for all attributes) but what we are interested in are columns called `pt_r_tt` which is telling the time in minutes that it takes to reach city center from different parts of the city, and `walk_d` that tells the network distance by roads to reach city center from different parts of the city (almost equal to Euclidian distance).\n",
    "\n",
    "**The NoData values are presented with value -1**.\n",
    "\n",
    "- Thus we need to remove the No Data values first.\n"
   ]
  },
  {
   "cell_type": "code",
   "execution_count": null,
   "metadata": {
    "id": "BcXLKLpeFxe6",
    "jupyter": {
     "outputs_hidden": false
    }
   },
   "outputs": [],
   "source": [
    "# Include only data that is above or equal to 0\n",
    "acc = acc.loc[acc[\"pt_r_tt\"] >= 0]"
   ]
  },
  {
   "cell_type": "markdown",
   "metadata": {
    "id": "9scwCW5bFxe6"
   },
   "source": [
    "- Let's plot the data and see how it looks like\n",
    "- `cmap` parameter defines the color map. Read more about [choosing colormaps in matplotlib](https://matplotlib.org/3.1.0/tutorials/colors/colormaps.html)\n",
    "- `scheme` option scales the colors according to a classification scheme (requires `mapclassify` module to be installed):"
   ]
  },
  {
   "cell_type": "code",
   "execution_count": null,
   "metadata": {
    "colab": {
     "base_uri": "https://localhost:8080/",
     "height": 487
    },
    "id": "GXCo6dILFxe7",
    "jupyter": {
     "outputs_hidden": false
    },
    "outputId": "66493faf-ab32-442b-f3f2-c43b5c7301c0"
   },
   "outputs": [],
   "source": [
    "import matplotlib.pyplot as plt\n",
    "\n",
    "# Plot using 9 classes and classify the values using \"Natural Breaks\" classification\n",
    "acc.plot(\n",
    "    column=\"pt_r_tt\",\n",
    "    scheme=\"Natural_Breaks\",\n",
    "    k=9,\n",
    "    cmap=\"RdYlBu\",\n",
    "    linewidth=0,\n",
    "    legend=True,\n",
    ")\n",
    "\n",
    "# Use tight layout\n",
    "plt.tight_layout()"
   ]
  },
  {
   "cell_type": "markdown",
   "metadata": {
    "id": "R4-nJbA2Fxe7"
   },
   "source": [
    "As we can see from this map, the travel times are lower in the south where the city center is located but there are some areas of \"good\" accessibility also in some other areas (where the color is red).\n",
    "\n",
    "- Let's also make a plot about walking distances:"
   ]
  },
  {
   "cell_type": "code",
   "execution_count": null,
   "metadata": {
    "colab": {
     "base_uri": "https://localhost:8080/",
     "height": 487
    },
    "id": "PrT0HZZ5Fxe7",
    "jupyter": {
     "outputs_hidden": false
    },
    "outputId": "9956fbf5-61db-4b6a-ccce-d387b1025dba"
   },
   "outputs": [],
   "source": [
    "# Plot walking distance\n",
    "acc.plot(\n",
    "    column=\"walk_d\",\n",
    "    scheme=\"Natural_Breaks\",\n",
    "    k=9,\n",
    "    cmap=\"RdYlBu\",\n",
    "    linewidth=0,\n",
    "    legend=True,\n",
    ")\n",
    "\n",
    "# Use tight layour\n",
    "plt.tight_layout()"
   ]
  },
  {
   "cell_type": "markdown",
   "metadata": {
    "id": "a7D8Y3iOFxe7"
   },
   "source": [
    "Okay, from here we can see that the walking distances (along road network) reminds more or less Euclidian distances.\n",
    "\n",
    "### Applying classifiers to data\n",
    "\n",
    "As mentioned, the `scheme` option defines the classification scheme using `pysal/mapclassify`. Let's have a closer look at how these classifiers work."
   ]
  },
  {
   "cell_type": "code",
   "execution_count": null,
   "metadata": {
    "id": "9mGDhFxJFxe7",
    "jupyter": {
     "outputs_hidden": false
    }
   },
   "outputs": [],
   "source": [
    "import mapclassify"
   ]
  },
  {
   "cell_type": "markdown",
   "metadata": {
    "id": "am-j63s3Fxe8"
   },
   "source": [
    "- Natural Breaks"
   ]
  },
  {
   "cell_type": "code",
   "execution_count": null,
   "metadata": {
    "colab": {
     "base_uri": "https://localhost:8080/"
    },
    "id": "HZlOxuwhFxe8",
    "jupyter": {
     "outputs_hidden": false
    },
    "outputId": "20a67748-a15d-4b23-a198-73522cd0350e"
   },
   "outputs": [],
   "source": [
    "mapclassify.NaturalBreaks(y=acc[\"pt_r_tt\"], k=9)"
   ]
  },
  {
   "cell_type": "markdown",
   "metadata": {
    "id": "rIeu9ReyFxe8"
   },
   "source": [
    "- Quantiles (default is 5 classes):"
   ]
  },
  {
   "cell_type": "code",
   "execution_count": null,
   "metadata": {
    "colab": {
     "base_uri": "https://localhost:8080/"
    },
    "id": "OuUp670mFxe8",
    "jupyter": {
     "outputs_hidden": false
    },
    "outputId": "42b12173-d86c-4175-f087-bc49255f4025"
   },
   "outputs": [],
   "source": [
    "mapclassify.Quantiles(y=acc[\"pt_r_tt\"])"
   ]
  },
  {
   "cell_type": "markdown",
   "metadata": {
    "id": "OZU2BSmhFxe8"
   },
   "source": [
    "- It's possible to extract the threshold values into an array:"
   ]
  },
  {
   "cell_type": "code",
   "execution_count": null,
   "metadata": {
    "colab": {
     "base_uri": "https://localhost:8080/"
    },
    "id": "_Hz1ZNVMFxe8",
    "jupyter": {
     "outputs_hidden": false
    },
    "outputId": "b3191d1f-6151-4609-e203-3a5e0def9e3d"
   },
   "outputs": [],
   "source": [
    "classifier = mapclassify.NaturalBreaks(y=acc[\"pt_r_tt\"], k=9)\n",
    "classifier.bins"
   ]
  },
  {
   "cell_type": "markdown",
   "metadata": {
    "id": "N2x0z5J8Fxe9"
   },
   "source": [
    "- Let's apply one of the `Pysal` classifiers into our data and classify the travel times by public transport into 9 classes\n",
    "- The classifier needs to be initialized first with `make()` function that takes the number of desired classes as input parameter"
   ]
  },
  {
   "cell_type": "code",
   "execution_count": null,
   "metadata": {
    "id": "wsrnXx_WFxe9",
    "jupyter": {
     "outputs_hidden": false
    }
   },
   "outputs": [],
   "source": [
    "# Create a Natural Breaks classifier\n",
    "classifier = mapclassify.NaturalBreaks.make(k=9)"
   ]
  },
  {
   "cell_type": "markdown",
   "metadata": {
    "id": "r0No2WpCFxe9"
   },
   "source": [
    "- Now we can apply that classifier into our data by using `apply` -function"
   ]
  },
  {
   "cell_type": "code",
   "execution_count": null,
   "metadata": {
    "colab": {
     "base_uri": "https://localhost:8080/",
     "height": 206
    },
    "id": "PMdQnadRFxe9",
    "jupyter": {
     "outputs_hidden": false
    },
    "outputId": "c803cce8-16d1-4460-b64f-217b1f63ae31"
   },
   "outputs": [],
   "source": [
    "# Classify the data\n",
    "classifications = acc[[\"pt_r_tt\"]].apply(classifier)\n",
    "\n",
    "# Let's see what we have\n",
    "classifications.head()"
   ]
  },
  {
   "cell_type": "code",
   "execution_count": null,
   "metadata": {
    "colab": {
     "base_uri": "https://localhost:8080/"
    },
    "id": "2bCKKh0YFxe9",
    "jupyter": {
     "outputs_hidden": false
    },
    "outputId": "d9dd3a63-8f4e-44e7-f0d0-059b651da247"
   },
   "outputs": [],
   "source": [
    "type(classifications)"
   ]
  },
  {
   "cell_type": "markdown",
   "metadata": {
    "id": "llcCc-mAFxe-"
   },
   "source": [
    "Okay, so now we have a DataFrame where our input column was classified into 9 different classes (numbers 1-9) based on [Natural Breaks classification](http://wiki-1-1930356585.us-east-1.elb.amazonaws.com/wiki/index.php/Jenks_Natural_Breaks_Classification).\n",
    "\n",
    "- We can also add the classification values directly into a new column in our dataframe:"
   ]
  },
  {
   "cell_type": "code",
   "execution_count": null,
   "metadata": {
    "colab": {
     "base_uri": "https://localhost:8080/",
     "height": 206
    },
    "id": "peJ5uf-rFxe-",
    "jupyter": {
     "outputs_hidden": false
    },
    "outputId": "973760c5-28ce-4df6-a815-2954f870aa90"
   },
   "outputs": [],
   "source": [
    "# Rename the column so that we know that it was classified with natural breaks\n",
    "acc[\"nb_pt_r_tt\"] = acc[[\"pt_r_tt\"]].apply(classifier)\n",
    "\n",
    "# Check the original values and classification\n",
    "acc[[\"pt_r_tt\", \"nb_pt_r_tt\"]].head()"
   ]
  },
  {
   "cell_type": "markdown",
   "metadata": {
    "id": "6ty-9BYeFxe-"
   },
   "source": [
    "Great, now we have those values in our accessibility GeoDataFrame. Let's visualize the results and see how they look."
   ]
  },
  {
   "cell_type": "code",
   "execution_count": null,
   "metadata": {
    "colab": {
     "base_uri": "https://localhost:8080/",
     "height": 482
    },
    "id": "Kr0pgrQoFxe-",
    "jupyter": {
     "outputs_hidden": false
    },
    "outputId": "d5d3c8d8-8a41-42dd-80ed-22ee7758e231"
   },
   "outputs": [],
   "source": [
    "# Plot\n",
    "acc.plot(column=\"nb_pt_r_tt\", linewidth=0, legend=True)\n",
    "\n",
    "# Use tight layout\n",
    "plt.tight_layout()"
   ]
  },
  {
   "cell_type": "markdown",
   "metadata": {
    "id": "2utESxj8Fxe-"
   },
   "source": [
    "And here we go, now we have a map where we have used one of the common classifiers to classify our data into 9 classes."
   ]
  },
  {
   "cell_type": "markdown",
   "metadata": {
    "id": "vd3aPD8rFxe_"
   },
   "source": [
    "## Plotting a histogram\n",
    "\n",
    "A histogram is a graphic representation of the distribution of the data. When classifying the data, it's always good to consider how the data is distributed, and how the classification shceme divides values into different ranges.\n",
    "\n",
    "- plot the histogram using [pandas.DataFrame.plot.hist](https://pandas.pydata.org/pandas-docs/stable/reference/api/pandas.DataFrame.plot.hist.html)\n",
    "- Number of histogram bins (groups of data) can be controlled using the parameter `bins`:"
   ]
  },
  {
   "cell_type": "code",
   "execution_count": null,
   "metadata": {
    "colab": {
     "base_uri": "https://localhost:8080/",
     "height": 447
    },
    "id": "DWMejqNiFxe_",
    "jupyter": {
     "outputs_hidden": false
    },
    "outputId": "86306f96-8e4e-4957-84a0-7a5bfffb9aaa"
   },
   "outputs": [],
   "source": [
    "# Histogram for public transport rush hour travel time\n",
    "acc[\"pt_r_tt\"].plot.hist(bins=50)"
   ]
  },
  {
   "cell_type": "markdown",
   "metadata": {
    "id": "g_atHkPiFxe_"
   },
   "source": [
    "Let's also add threshold values on thop of the histogram as vertical lines.\n",
    "\n",
    "- Natural Breaks:"
   ]
  },
  {
   "cell_type": "code",
   "execution_count": null,
   "metadata": {
    "colab": {
     "base_uri": "https://localhost:8080/",
     "height": 430
    },
    "id": "gIOIV8maFxe_",
    "jupyter": {
     "outputs_hidden": false
    },
    "outputId": "8b71c4a2-08ee-4a70-e8b0-9a2d4381622f"
   },
   "outputs": [],
   "source": [
    "# Define classifier\n",
    "classifier = mapclassify.NaturalBreaks(y=acc[\"pt_r_tt\"], k=9)\n",
    "\n",
    "# Plot histogram for public transport rush hour travel time\n",
    "acc[\"pt_r_tt\"].plot.hist(bins=50)\n",
    "\n",
    "# Add vertical lines for class breaks\n",
    "for value in classifier.bins:\n",
    "    plt.axvline(value, color=\"k\", linestyle=\"dashed\", linewidth=1)"
   ]
  },
  {
   "cell_type": "markdown",
   "metadata": {
    "id": "19MVWYj3Fxe_"
   },
   "source": [
    "- Quantiles:"
   ]
  },
  {
   "cell_type": "code",
   "execution_count": null,
   "metadata": {
    "colab": {
     "base_uri": "https://localhost:8080/",
     "height": 430
    },
    "id": "OEtaiHSNFxe_",
    "jupyter": {
     "outputs_hidden": false
    },
    "outputId": "d8e86630-c0ba-4563-dc57-c83e7b1bf753"
   },
   "outputs": [],
   "source": [
    "# Define classifier\n",
    "classifier = mapclassify.Quantiles(y=acc[\"pt_r_tt\"])\n",
    "\n",
    "# Plot histogram for public transport rush hour travel time\n",
    "acc[\"pt_r_tt\"].plot.hist(bins=50)\n",
    "\n",
    "for value in classifier.bins:\n",
    "    plt.axvline(value, color=\"k\", linestyle=\"dashed\", linewidth=1)"
   ]
  },
  {
   "cell_type": "markdown",
   "metadata": {
    "id": "eC3_DhsNFxfA"
   },
   "source": [
    "\n",
    "<div class=\"alert alert-info\">\n",
    "\n",
    "**Check your understanding**\n",
    "\n",
    "Select another column from the data (for example, travel times by car: `car_r_t`). Do the following visualizations using one of the classification schemes available from [pysal/mapclassify](https://github.com/pysal/mapclassify):\n",
    "    \n",
    "- histogram with vertical lines showing the classification bins\n",
    "- thematic map using the classification scheme\n",
    "\n",
    "\n",
    "</div>"
   ]
  },
  {
   "cell_type": "markdown",
   "metadata": {
    "id": "ZnVRWPr_FxfA"
   },
   "source": [
    "## Creating a custom classifier\n",
    "\n",
    "**Multicriteria data classification**\n",
    "\n",
    "Let's create a function where we classify the geometries into two classes based on a given `threshold` -parameter. If the area of a polygon is lower than the threshold value (average size of the lake), the output column will get a value 0, if it is larger, it will get a value 1. This kind of classification is often called a [binary classification](https://en.wikipedia.org/wiki/Binary_classification).\n",
    "\n",
    "First we need to create a function for our classification task. This function takes a single row of the GeoDataFrame as input, plus few other parameters that we can use.\n",
    "\n",
    "It also possible to do classifiers with multiple criteria easily in Pandas/Geopandas by extending the example that we started earlier. Now we will modify our binaryClassifier function a bit so that it classifies the data based on two columns.\n",
    "\n",
    "- Let's call it `custom_classifier` that does the binary classification based on two treshold values:\n"
   ]
  },
  {
   "cell_type": "code",
   "execution_count": null,
   "metadata": {
    "id": "DFmbpQJmFxfA",
    "jupyter": {
     "outputs_hidden": false
    }
   },
   "outputs": [],
   "source": [
    "def custom_classifier(row, src_col1, src_col2, threshold1, threshold2, output_col):\n",
    "    \"\"\"Custom classirifer that can be applied on each row of a pandas dataframe (axis=1).\n",
    "\n",
    "    This function classifies data based on values in two source columns and stores the output value in the output column.\n",
    "    Output values is 1 if the value in src_col1 is LOWER than the threshold1 value AND the value in src_col2 is HIGHER than the threshold2 value.\n",
    "    In all other cases, output value is 0.\n",
    "\n",
    "    Args:\n",
    "        row: one row of data\n",
    "        src_col1: source column name associated with threshold1\n",
    "        src_col2: source column name associated with threshold2\n",
    "        threshold1: upper threshold value for src_col1\n",
    "        threshold2: lower threshold value for src_col2\n",
    "        output_col: output column name\n",
    "\n",
    "    Returns:\n",
    "        updated row of data.\n",
    "    \"\"\"\n",
    "\n",
    "    # If condition is true, assign 1 into output column\n",
    "    if row[src_col1] < threshold1 and row[src_col2] > threshold2:\n",
    "        row[output_col] = 1\n",
    "\n",
    "    # Else, assign 1 into output column\n",
    "    else:\n",
    "        row[output_col] = 0\n",
    "\n",
    "    # Return the updated row\n",
    "    return row"
   ]
  },
  {
   "cell_type": "markdown",
   "metadata": {
    "id": "4PEl9GcsFxfA"
   },
   "source": [
    "Now we have defined the function, and we can start using it.\n",
    "\n",
    "- Let's do our classification based on two criteria and find out grid cells where the **travel time is lower or equal to 20 minutes** but they are further away **than 4 km (4000 meters) from city center**.\n",
    "\n",
    "- Let's create an empty column for our classification results called `\"suitable_area\"`.\n"
   ]
  },
  {
   "cell_type": "code",
   "execution_count": null,
   "metadata": {
    "colab": {
     "base_uri": "https://localhost:8080/",
     "height": 531
    },
    "id": "JtHpZhFyFxfA",
    "jupyter": {
     "outputs_hidden": false
    },
    "outputId": "34ca3130-80b6-40bc-e327-3ef57478988f"
   },
   "outputs": [],
   "source": [
    "# Create column for the classification results\n",
    "acc[\"suitable_area\"] = None\n",
    "\n",
    "# Use the function\n",
    "acc = acc.apply(\n",
    "    custom_classifier,\n",
    "    src_col1=\"pt_r_tt\",\n",
    "    src_col2=\"walk_d\",\n",
    "    threshold1=20,\n",
    "    threshold2=4000,\n",
    "    output_col=\"suitable_area\",\n",
    "    axis=1,\n",
    ")\n",
    "\n",
    "# See the first rows\n",
    "acc.head()"
   ]
  },
  {
   "cell_type": "markdown",
   "metadata": {
    "id": "tMPuvdzKFxfB"
   },
   "source": [
    "Okey we have new values in `suitable_area` -column.\n",
    "\n",
    "- How many Polygons are suitable for us? Let's find out by using a Pandas function called `value_counts()` that return the count of different values in our column.\n"
   ]
  },
  {
   "cell_type": "code",
   "execution_count": null,
   "metadata": {
    "colab": {
     "base_uri": "https://localhost:8080/"
    },
    "id": "1sywqHDeFxfB",
    "jupyter": {
     "outputs_hidden": false
    },
    "outputId": "cfbdf178-f8e6-4d1b-e3d7-3659fde80833"
   },
   "outputs": [],
   "source": [
    "# Get value counts\n",
    "acc[\"suitable_area\"].value_counts()"
   ]
  },
  {
   "cell_type": "markdown",
   "metadata": {
    "id": "omBGSxg9FxfB"
   },
   "source": [
    "Okay, so there seems to be nine suitable locations for us where we can try to find an appartment to buy.\n",
    "\n",
    "- Let's see where they are located:\n"
   ]
  },
  {
   "cell_type": "code",
   "execution_count": null,
   "metadata": {
    "colab": {
     "base_uri": "https://localhost:8080/",
     "height": 487
    },
    "id": "TOJRLv94FxfB",
    "jupyter": {
     "outputs_hidden": false
    },
    "outputId": "9b89a273-bf8a-4e18-94b5-d4a17243d9c8"
   },
   "outputs": [],
   "source": [
    "# Plot\n",
    "acc.plot(column=\"suitable_area\", linewidth=0)\n",
    "\n",
    "# Use tight layour\n",
    "plt.tight_layout()"
   ]
  },
  {
   "cell_type": "markdown",
   "metadata": {
    "id": "rAVNCMObFxfB"
   },
   "source": [
    "A-haa, okay so we can see that suitable places for us with our criteria seem to be located in the\n",
    "eastern part from the city center. Actually, those locations are along the metro line which makes them good locations in terms of travel time to city center since metro is really fast travel mode.\n",
    "\n",
    "**Other examples**\n",
    "\n",
    "Older course materials contain an example of applying a [custom binary classifier on the Corine land cover data](https://automating-gis-processes.github.io/2017/lessons/L4/reclassify.html#classifying-data>)."
   ]
  },
  {
   "cell_type": "markdown",
   "metadata": {
    "id": "5aDyr_1aemIP"
   },
   "source": [
    "References:\n",
    "\n",
    "https://pythongis.org/index.html\n",
    "\n",
    "https://automating-gis-processes.github.io/CSC18/index.html"
   ]
  },
  {
   "cell_type": "markdown",
   "metadata": {
    "id": "T9L-t_AWerH1"
   },
   "source": [
    "---"
   ]
  }
 ],
 "metadata": {
  "colab": {
   "provenance": []
  },
  "kernelspec": {
   "display_name": "Python 3 (ipykernel)",
   "language": "python",
   "name": "python3"
  },
  "language_info": {
   "codemirror_mode": {
    "name": "ipython",
    "version": 3
   },
   "file_extension": ".py",
   "mimetype": "text/x-python",
   "name": "python",
   "nbconvert_exporter": "python",
   "pygments_lexer": "ipython3",
   "version": "3.10.13"
  }
 },
 "nbformat": 4,
 "nbformat_minor": 0
}
