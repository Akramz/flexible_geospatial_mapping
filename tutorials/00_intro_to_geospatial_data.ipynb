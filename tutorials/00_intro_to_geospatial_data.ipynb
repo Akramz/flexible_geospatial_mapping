{
 "cells": [
  {
   "cell_type": "markdown",
   "id": "eweW2c0rjKv6",
   "metadata": {
    "id": "eweW2c0rjKv6"
   },
   "source": [
    "# Introduction to Geospatial Data\n",
    "\n",
    "<a href=\"https://colab.research.google.com/github/Akramz/flexible_geospatial_mapping/blob/main/tutorials/00_intro_to_geospatial_data.ipynb\" target=\"_parent\"><img src=\"https://colab.research.google.com/assets/colab-badge.svg\" alt=\"Open In Colab\"/></a>\n",
    "\n",
    "Geospatial data refers to information that is associated with specific geographic locations on the Earth's surface. It has a spatial component, capturing the location, shape, and attributes of geographic entities. Geospatial data can include data on various phenomena, such as land cover, population density, elevation, climate, or transportation networks.\n",
    "\n",
    "Typically, geospatial data is represented in two ways: **vector** data and **raster** data.\n",
    "\n",
    "1. `Vector Data`: Vector data represents geospatial features using points, lines, and polygons. Each feature has geometric coordinates and associated attributes. Examples of vector file formats include `Shapefile` (.shp), `GeoJSON`, and `Geodatabase`.\n",
    "\n",
    "`shapefile` is still widely used for storing geospatial vector data. The filename extension for the Shapefile is `.shp`. Shapefile is not actually only a single file, but it is made of multiple separate files. The three mandatory files that are associated to a valid shapefile dataset are:\n",
    "  *  .shp containing the feature geometries,\n",
    "  *  .shx containing a positional index for the feature geometries,\n",
    "  *  .dbf containing the attribute information.\n",
    "  *  .prj file which contains information about the coordinate reference system of the dataset.\n",
    "\n",
    "2. `Raster Data`: Raster data represents geospatial information as a grid of cells or pixels, where each cell holds a value representing an attribute or measurement. Raster data is stored in formats such as `GeoTIFF`, `NetCDF`, or `ASCII Grid`."
   ]
  },
  {
   "cell_type": "markdown",
   "id": "faa65b59",
   "metadata": {
    "id": "faa65b59"
   },
   "source": [
    "# Introduction to spatial data analysis with geopandas\n",
    "\n",
    "Here we will be using [geopandas](https://geopandas.org/) as our main tool for spatial data analysis. Geopandas extends the capacities of [pandas](https://pythongis.org/part1/chapter-04/index.html) with geospatial operations. The main data structures in geopandas are `GeoSeries` and `GeoDataFrame` which extend the capabilities of `Series` and `DataFrames` from pandas. This means that we can use many familiar methods from pandas also when working with geopandas and spatial features. A `GeoDataFrame` is basically a `pandas.DataFrame` that contains one column for geometries. The geometry column is a `GeoSeries` which contains the geometries  as `shapely` objects (points, lines, polygons, multipolygons etc.)\n",
    "\n",
    "## Getting started with geopandas"
   ]
  },
  {
   "cell_type": "code",
   "execution_count": null,
   "id": "dfe93339",
   "metadata": {},
   "outputs": [],
   "source": [
    "import os\n",
    "from pathlib import Path\n",
    "from IPython.core.debugger import set_trace\n",
    "import geopandas as gpd"
   ]
  },
  {
   "cell_type": "markdown",
   "id": "52d516a8",
   "metadata": {},
   "source": [
    "Let's start by downloading some vector data so we can explore it:\n",
    "\n",
    "We are going to download a damselfish dataset for exploratory purposes. This dataset is essentially a map that provides information on the geographical locations of a group of fish known as damselfish. \n",
    "\n",
    "Damselfish are small to medium-sized marine fish, popular in saltwater aquariums, belonging to the family Pomacentridae. The data includes details like:\n",
    "- The scientific name of each damselfish species\n",
    "- Who compiled the data\n",
    "- The year it was compiled\n",
    "- The source of the data. \n",
    "\n",
    "The `geometry` field represents the specific geographic areas where these fish are found, using polygons to map out their distribution. The `CATEGORY` column indicates the conservation status of the species, like `VU` for vulnerable or `LC` for least concern, based on the International Union for Conservation of Nature (IUCN) categories. \n",
    "\n",
    "The dataset is intended to be a tool for better understanding and monitoring the distribution and conservation status of damselfish species."
   ]
  },
  {
   "cell_type": "code",
   "execution_count": null,
   "id": "b18ee55e",
   "metadata": {},
   "outputs": [],
   "source": [
    "# Set the data store path\n",
    "data_store = Path(\"./data/supplementary\")\n",
    "data_store.mkdir(parents=True, exist_ok=True)"
   ]
  },
  {
   "cell_type": "code",
   "execution_count": null,
   "id": "c16e3d43",
   "metadata": {},
   "outputs": [],
   "source": [
    "!wget https://github.com/Automating-GIS-processes/Lesson-2-Geo-DataFrames/raw/master/data/Data.zip -P {data_store}"
   ]
  },
  {
   "cell_type": "code",
   "execution_count": null,
   "id": "PA_O4o0WTSXx",
   "metadata": {
    "id": "PA_O4o0WTSXx"
   },
   "outputs": [],
   "source": [
    "!unzip {data_store}/Data.zip -d {data_store}"
   ]
  },
  {
   "cell_type": "markdown",
   "id": "9b4ee3e0",
   "metadata": {
    "id": "9b4ee3e0"
   },
   "source": [
    "## Reading a Shapefile\n",
    "\n",
    "Spatial data can be read easily with geopandas using `gpd.from_file()` -function:\n",
    "\n"
   ]
  },
  {
   "cell_type": "code",
   "execution_count": null,
   "id": "db42e539",
   "metadata": {
    "id": "db42e539"
   },
   "outputs": [],
   "source": [
    "# Set filepath (fix path relative to yours)\n",
    "fp = data_store / \"Data/DAMSELFISH_distributions.shp\"\n",
    "\n",
    "# Read file using gpd.read_file()\n",
    "data = gpd.read_file(fp)"
   ]
  },
  {
   "cell_type": "markdown",
   "id": "3c82314a",
   "metadata": {
    "id": "3c82314a"
   },
   "source": [
    "Let's check the data type."
   ]
  },
  {
   "cell_type": "code",
   "execution_count": null,
   "id": "dbb84a0d",
   "metadata": {
    "colab": {
     "base_uri": "https://localhost:8080/"
    },
    "id": "dbb84a0d",
    "jupyter": {
     "outputs_hidden": false
    },
    "outputId": "c48de6c9-6d36-493f-eacc-269515ba1e85"
   },
   "outputs": [],
   "source": [
    "type(data)"
   ]
  },
  {
   "cell_type": "markdown",
   "id": "2028763e",
   "metadata": {
    "id": "2028763e"
   },
   "source": [
    "Here we see that our `data` is a `GeoDataFrame` which extends the functionalities of `DataFrame` to handle spatial data. \n",
    "\n",
    "We can apply many familiar `pandas` methods to explore the contents of our `GeoDataFrame`. Let's have a closer look at the first rows of the data."
   ]
  },
  {
   "cell_type": "code",
   "execution_count": null,
   "id": "64f2c58f",
   "metadata": {
    "colab": {
     "base_uri": "https://localhost:8080/",
     "height": 647
    },
    "id": "64f2c58f",
    "jupyter": {
     "outputs_hidden": false
    },
    "outputId": "00d86f39-c563-442a-944d-4dc136751a80"
   },
   "outputs": [],
   "source": [
    "data.head()"
   ]
  },
  {
   "cell_type": "markdown",
   "id": "cbe464d8",
   "metadata": {
    "id": "cbe464d8"
   },
   "source": [
    "It is always a good idea to explore your data also on a map. Creating a simple map from a `GeoDataFrame` is really easy. You can use the ``.plot()`` -function from geopandas that creates a map based on the geometries of the data. `geopandas` actually uses `matplotlib` for plotting which we introduced in Part 1 of this book. Let's try it out, and do a quick visualization of our data."
   ]
  },
  {
   "cell_type": "code",
   "execution_count": null,
   "id": "cfb617c9",
   "metadata": {
    "colab": {
     "base_uri": "https://localhost:8080/",
     "height": 214
    },
    "id": "cfb617c9",
    "jupyter": {
     "outputs_hidden": false
    },
    "outputId": "f2738c5e-807b-4c36-dd08-7564f2844b7f"
   },
   "outputs": [],
   "source": [
    "_ = data.plot()"
   ]
  },
  {
   "cell_type": "markdown",
   "id": "98c064a1",
   "metadata": {
    "id": "98c064a1"
   },
   "source": [
    "## Writing data into a file\n",
    "\n",
    "It is possible to export spatial data into various data formats using the `.to_file()` method in `geopandas`. We can write the data into a file using the `.to_file()` method:"
   ]
  },
  {
   "cell_type": "code",
   "execution_count": null,
   "id": "49d317f9",
   "metadata": {
    "id": "49d317f9"
   },
   "outputs": [],
   "source": [
    "# Create a output path for the data\n",
    "output_fp = data_store / \"Data/new_data.shp\"\n",
    "\n",
    "# Write the file\n",
    "data.to_file(output_fp)"
   ]
  },
  {
   "cell_type": "markdown",
   "id": "32bd2bc1",
   "metadata": {
    "id": "32bd2bc1"
   },
   "source": [
    "#### Question\n",
    "\n",
    "> Indented block\n",
    "\n",
    "\n",
    "\n",
    "Read the output file using `geopandas` and check that the data looks ok."
   ]
  },
  {
   "cell_type": "code",
   "execution_count": null,
   "id": "ad7325ea",
   "metadata": {
    "id": "ad7325ea",
    "tags": [
     "remove_cell"
    ]
   },
   "outputs": [],
   "source": [
    "# Use this cell to enter your solution."
   ]
  },
  {
   "cell_type": "code",
   "execution_count": null,
   "id": "c947fbba",
   "metadata": {
    "colab": {
     "base_uri": "https://localhost:8080/",
     "height": 647
    },
    "id": "c947fbba",
    "outputId": "d3f0e806-cf7d-4c72-85d4-ec0a887ff4ff",
    "tags": [
     "remove_book_cell",
     "hide_cell"
    ]
   },
   "outputs": [],
   "source": [
    "# Solution\n",
    "temp = gpd.read_file(output_fp)\n",
    "\n",
    "# Check first rows\n",
    "temp.head()"
   ]
  },
  {
   "cell_type": "code",
   "execution_count": null,
   "id": "64223fd7",
   "metadata": {
    "colab": {
     "base_uri": "https://localhost:8080/",
     "height": 214
    },
    "id": "64223fd7",
    "outputId": "d8c6efed-b583-4440-ed05-7f4cb5e0e97b",
    "tags": [
     "remove_book_cell",
     "hide_cell"
    ]
   },
   "outputs": [],
   "source": [
    "# Solution\n",
    "\n",
    "# You can also plot the data for a visual check\n",
    "temp.plot()"
   ]
  },
  {
   "cell_type": "markdown",
   "id": "861f9bff",
   "metadata": {
    "id": "861f9bff"
   },
   "source": [
    "## Geometries in geopandas\n",
    "\n",
    "A `GeoDataFrame` has one column for storing geometries. By default, `geopandas` looks for the geometries from a column called `geometry`. It is also possible to define other columns as the geometry column. Th geometry column is a `GeoSeries` that contains shapely's geometric objects.  Let's have a look at the geometry column of our sample data."
   ]
  },
  {
   "cell_type": "code",
   "execution_count": null,
   "id": "eeaf22f4",
   "metadata": {
    "colab": {
     "base_uri": "https://localhost:8080/"
    },
    "id": "eeaf22f4",
    "jupyter": {
     "outputs_hidden": false
    },
    "outputId": "3c8c494a-a95c-46ed-879b-33181d4d6e32"
   },
   "outputs": [],
   "source": [
    "data[\"geometry\"].head()"
   ]
  },
  {
   "cell_type": "markdown",
   "id": "az-BQmNBZJj7",
   "metadata": {
    "id": "az-BQmNBZJj7"
   },
   "source": [
    "Since spatial data is stored as Shapely objects, it is possible to use all of the functionalities of `Shapely` module that we practiced earlier. More information [here](https://pythongis.org/part2/chapter-06/nb/00-introduction-to-geographic-objects.html)."
   ]
  },
  {
   "cell_type": "code",
   "execution_count": null,
   "id": "oz5bk0kZVX4X",
   "metadata": {
    "colab": {
     "base_uri": "https://localhost:8080/",
     "height": 121
    },
    "id": "oz5bk0kZVX4X",
    "outputId": "98ce3d25-54e6-48a2-c1bd-3a86fefd1a05"
   },
   "outputs": [],
   "source": [
    "from shapely.geometry import Point\n",
    "\n",
    "point = Point(2.2, 4.2)\n",
    "point3D = Point(9.26, -2.456, 0.57)\n",
    "point"
   ]
  },
  {
   "cell_type": "markdown",
   "id": "xJnuOQ6RZORf",
   "metadata": {
    "id": "xJnuOQ6RZORf"
   },
   "source": [
    "Let’s print the areas of the first 5 polygons (in degrees):"
   ]
  },
  {
   "cell_type": "code",
   "execution_count": null,
   "id": "582806b2",
   "metadata": {
    "id": "582806b2"
   },
   "outputs": [],
   "source": [
    "# Make a selection that contains only the first five rows\n",
    "selection = data.iloc[0:5]\n",
    "selection"
   ]
  },
  {
   "cell_type": "markdown",
   "id": "XlJ6jxfLZaMV",
   "metadata": {
    "id": "XlJ6jxfLZaMV"
   },
   "source": [
    "We can iterate over the selected rows using a specific .iterrows() -function in (geo)pandas and print the area for each polygon:"
   ]
  },
  {
   "cell_type": "code",
   "execution_count": null,
   "id": "21TSF3q9ZZXE",
   "metadata": {
    "colab": {
     "base_uri": "https://localhost:8080/"
    },
    "id": "21TSF3q9ZZXE",
    "outputId": "09801235-fa9f-4f04-e11c-539760628161"
   },
   "outputs": [],
   "source": [
    "for index, row in selection.iterrows():\n",
    "    poly_area = row[\"geometry\"].area\n",
    "    print(\"Polygon area at index {0} is: {1:.3f}\".format(index, poly_area))"
   ]
  },
  {
   "cell_type": "markdown",
   "id": "f0Xjx4cJZmM1",
   "metadata": {
    "id": "f0Xjx4cJZmM1"
   },
   "source": [
    "Hence, as you might guess from here, all the functionalities of Pandas are available directly in Geopandas without the need to call pandas separately because Geopandas is an extension for Pandas.\n",
    "\n",
    "\n",
    "Let’s next create a new column into our GeoDataFrame where we calculate and store the areas individual polygons. Calculating the areas of polygons is really easy in geopandas by using `GeoDataFrame.area` attribute:"
   ]
  },
  {
   "cell_type": "code",
   "execution_count": null,
   "id": "oqx1JP3DZoU6",
   "metadata": {
    "colab": {
     "base_uri": "https://localhost:8080/"
    },
    "id": "oqx1JP3DZoU6",
    "outputId": "1aaed1a2-1549-4dd5-a22e-5737e1f81953"
   },
   "outputs": [],
   "source": [
    "data[\"area\"] = data.area"
   ]
  },
  {
   "cell_type": "markdown",
   "id": "yA14rHxvZ7In",
   "metadata": {
    "id": "yA14rHxvZ7In"
   },
   "source": [
    "Let’s see the first 2 rows of our ‘area’ column.\n",
    "\n"
   ]
  },
  {
   "cell_type": "code",
   "execution_count": null,
   "id": "yz9m314yaHKJ",
   "metadata": {
    "colab": {
     "base_uri": "https://localhost:8080/"
    },
    "id": "yz9m314yaHKJ",
    "outputId": "a542f847-d84e-45a2-aab9-5fc1e346187b"
   },
   "outputs": [],
   "source": [
    "data[\"area\"].head(2)"
   ]
  },
  {
   "cell_type": "markdown",
   "id": "jAolh6PCaUES",
   "metadata": {
    "id": "jAolh6PCaUES"
   },
   "source": [
    "Okey, so we can see that the area of our first polygon seems to be 19.39 and 6.14 for the second polygon. They correspond to the ones we saw in previous step when iterating rows, hence, everything seems to work as it should. Let’s check what is the min and the max of those areas using familiar functions from pandas"
   ]
  },
  {
   "cell_type": "code",
   "execution_count": null,
   "id": "kddffpGGaSBV",
   "metadata": {
    "colab": {
     "base_uri": "https://localhost:8080/"
    },
    "id": "kddffpGGaSBV",
    "outputId": "f9ffae6c-29d9-4d66-d9b1-a4044af1a536"
   },
   "outputs": [],
   "source": [
    "# Maximum area\n",
    "max_area = data[\"area\"].max()\n",
    "\n",
    "# Mean area\n",
    "mean_area = data[\"area\"].mean()\n",
    "\n",
    "print(f\"Max area: {round(max_area, 2)}\\nMean area: {round(mean_area, 2)}\")"
   ]
  },
  {
   "cell_type": "markdown",
   "id": "9RSaQd3vFrQn",
   "metadata": {
    "id": "9RSaQd3vFrQn"
   },
   "source": [
    "## Creating a GeoDataFrame from scratch\n",
    "\n",
    "It is possible to create spatial data from scratch by using `shapely`'s geometric objects and `geopandas`. This is useful as it makes it easy to convert, for example, a text file that contains coordinates into spatial data layers.\n",
    "\n",
    "Let’s create an empty GeoDataFrame `GeoDataFrame`"
   ]
  },
  {
   "cell_type": "code",
   "execution_count": null,
   "id": "gObCSH4Nbdjj",
   "metadata": {
    "id": "gObCSH4Nbdjj"
   },
   "outputs": [],
   "source": [
    "# Import necessary modules first\n",
    "import pandas as pd\n",
    "import geopandas as gpd\n",
    "from shapely.geometry import Point, Polygon\n",
    "import fiona\n",
    "\n",
    "# Create an empty geopandas GeoDataFrame\n",
    "newdata = gpd.GeoDataFrame()"
   ]
  },
  {
   "cell_type": "code",
   "execution_count": null,
   "id": "auq5epVLbvo5",
   "metadata": {
    "colab": {
     "base_uri": "https://localhost:8080/",
     "height": 49
    },
    "id": "auq5epVLbvo5",
    "outputId": "b51d7bf3-e64e-4764-9b8e-395ca30cb8d6"
   },
   "outputs": [],
   "source": [
    "# Let's see what's inside\n",
    "newdata"
   ]
  },
  {
   "cell_type": "markdown",
   "id": "puj8apIQbi_4",
   "metadata": {
    "id": "puj8apIQbi_4"
   },
   "source": [
    "The GeoDataFrame is empty since we haven’t placed any data inside.\n",
    "\n",
    "Let’s create a new column called geometry that will contain our Shapely objects:"
   ]
  },
  {
   "cell_type": "code",
   "execution_count": null,
   "id": "5ct4jJyxbokG",
   "metadata": {
    "colab": {
     "base_uri": "https://localhost:8080/",
     "height": 104
    },
    "id": "5ct4jJyxbokG",
    "outputId": "8370c62e-db7c-433a-816f-2dd7f4abaea2"
   },
   "outputs": [],
   "source": [
    "# Create a new column called 'geometry' to the GeoDataFrame\n",
    "newdata[\"geometry\"] = None\n",
    "\n",
    "# Let's see what's inside\n",
    "newdata"
   ]
  },
  {
   "cell_type": "markdown",
   "id": "Od_9tIynb7P2",
   "metadata": {
    "id": "Od_9tIynb7P2"
   },
   "source": [
    "Now we have a geometry column in our GeoDataFrame but we don’t have any data yet.\n",
    "\n",
    "Let’s create a Shapely Polygon repsenting the Helsinki Senate square that we can insert to our GeoDataFrame:"
   ]
  },
  {
   "cell_type": "code",
   "execution_count": null,
   "id": "aec1fbab-b4e0-4641-816a-cdc37ab56432",
   "metadata": {
    "colab": {
     "base_uri": "https://localhost:8080/",
     "height": 121
    },
    "id": "aec1fbab-b4e0-4641-816a-cdc37ab56432",
    "outputId": "0ae5eae5-f2cc-4833-ff63-185a948d4f2d"
   },
   "outputs": [],
   "source": [
    "from shapely.geometry import Polygon\n",
    "\n",
    "# Coordinates of the Helsinki Senate square in decimal degrees\n",
    "coordinates = [\n",
    "    (24.950899, 60.169158),\n",
    "    (24.953492, 60.169158),\n",
    "    (24.953510, 60.170104),\n",
    "    (24.950958, 60.169990),\n",
    "]\n",
    "\n",
    "# Create a Shapely polygon from the coordinate-tuple list\n",
    "poly = Polygon(coordinates)\n",
    "poly"
   ]
  },
  {
   "cell_type": "markdown",
   "id": "727717a5-e176-4d55-bd30-a444bfc6758c",
   "metadata": {
    "id": "727717a5-e176-4d55-bd30-a444bfc6758c"
   },
   "source": [
    "Okey, so now we have appropriate Polygon -object.\n",
    "\n",
    "Let’s insert the polygon into our ‘geometry’ column in our GeoDataFrame:"
   ]
  },
  {
   "cell_type": "code",
   "execution_count": null,
   "id": "5d8178e8",
   "metadata": {
    "colab": {
     "base_uri": "https://localhost:8080/",
     "height": 81
    },
    "id": "5d8178e8",
    "outputId": "9fba11f8-88c9-46b6-8c7c-0bc34babaee0"
   },
   "outputs": [],
   "source": [
    "# Insert the polygon into 'geometry' -column at index 0\n",
    "newdata.loc[0, \"geometry\"] = poly\n",
    "\n",
    "# Let's see what we have now\n",
    "newdata"
   ]
  },
  {
   "cell_type": "markdown",
   "id": "98400110-6519-4422-83fa-39d54d6740aa",
   "metadata": {
    "id": "98400110-6519-4422-83fa-39d54d6740aa"
   },
   "source": [
    "Now we have a GeoDataFrame with Polygon that we can export to a Shapefile.\n",
    "\n",
    "Let’s add another column to our GeoDataFrame called Location with text Senaatintori."
   ]
  },
  {
   "cell_type": "code",
   "execution_count": null,
   "id": "bff22229",
   "metadata": {
    "colab": {
     "base_uri": "https://localhost:8080/",
     "height": 81
    },
    "id": "bff22229",
    "jupyter": {
     "outputs_hidden": false
    },
    "outputId": "a10d6aa0-43d9-4065-e57d-084d5fef4cfb"
   },
   "outputs": [],
   "source": [
    "# Add a new column and insert data\n",
    "newdata.loc[0, \"Location\"] = \"Senaatintori\"\n",
    "\n",
    "# Let's check the data\n",
    "newdata"
   ]
  },
  {
   "cell_type": "markdown",
   "id": "237b04ca",
   "metadata": {
    "id": "237b04ca"
   },
   "source": [
    "There it is! Now we have two columns in our data; one representing the geometry and another with additional attribute information. From here, you could proceed into adding additional rows of data, or printing out the data to a file."
   ]
  },
  {
   "cell_type": "markdown",
   "id": "QZnaUBmmc6SR",
   "metadata": {
    "id": "QZnaUBmmc6SR"
   },
   "source": [
    "Before exporting the data it is useful to determine the coordinate reference system (projection) for the GeoDataFrame.\n",
    "\n",
    "GeoDataFrame has a property called `.crs` that (more about projection on next section) shows the coordinate system of the data which is empty (None) in our case since we are creating the data from the scratch:"
   ]
  },
  {
   "cell_type": "code",
   "execution_count": null,
   "id": "HzB31wgjc_e7",
   "metadata": {
    "colab": {
     "base_uri": "https://localhost:8080/"
    },
    "id": "HzB31wgjc_e7",
    "outputId": "4f4f6142-a842-4b63-d371-cbad65edc73d"
   },
   "outputs": [],
   "source": [
    "print(newdata.crs)"
   ]
  },
  {
   "cell_type": "markdown",
   "id": "8V0LgSQbdE-B",
   "metadata": {
    "id": "8V0LgSQbdE-B"
   },
   "source": [
    "Let’s add a crs for our GeoDataFrame. A Python module called fiona has a nice function called from_epsg() for passing coordinate system for the GeoDataFrame. Next we will use that and determine the projection to WGS84 (epsg code: 4326):\n"
   ]
  },
  {
   "cell_type": "code",
   "execution_count": null,
   "id": "Mi92EgJldDHC",
   "metadata": {
    "colab": {
     "base_uri": "https://localhost:8080/"
    },
    "id": "Mi92EgJldDHC",
    "outputId": "2fc7c2ac-e121-45a8-dd39-0153295acb4d"
   },
   "outputs": [],
   "source": [
    "# Import specific function 'from_epsg' from fiona module\n",
    "from fiona.crs import from_epsg\n",
    "\n",
    "# Set the GeoDataFrame's coordinate system to WGS84\n",
    "newdata.crs = from_epsg(4326)\n",
    "\n",
    "# Let's see how the crs definition looks like\n",
    "newdata.crs"
   ]
  },
  {
   "cell_type": "markdown",
   "id": "gYVOItufdPJU",
   "metadata": {
    "id": "gYVOItufdPJU"
   },
   "source": [
    "Finally, we can export the data using GeoDataFrames .to_file() -function. The function works similarly as numpy or pandas, but here we only need to provide the output path for the Shapefile. Easy isn’t it!:"
   ]
  },
  {
   "cell_type": "code",
   "execution_count": null,
   "id": "6W-JtKcXdOcj",
   "metadata": {
    "id": "6W-JtKcXdOcj"
   },
   "outputs": [],
   "source": [
    "# Determine the output path for the Shapefile\n",
    "outfp = data_store / \"Data/Senaatintori.shp\"\n",
    "\n",
    "# Write the data into that Shapefile\n",
    "newdata.to_file(outfp)"
   ]
  },
  {
   "cell_type": "markdown",
   "id": "15Uu6ct-ddMn",
   "metadata": {
    "id": "15Uu6ct-ddMn"
   },
   "source": [
    "Now we have successfully created a Shapefile from the scratch using only Python programming. Similar approach can be used to for example to read coordinates from a text file (e.g. points) and create Shapefiles from those automatically."
   ]
  },
  {
   "cell_type": "markdown",
   "id": "4b527591",
   "metadata": {
    "id": "4b527591"
   },
   "source": [
    "# Working with Map Projections\n",
    "\n",
    "Coordinate reference systems (CRS) are important because the geometric shapes in a GeoDataFrame are simply a collection of coordinates in an arbitrary space (e.g., we see `Point(1,0)` and ask: `in reference to what?`). \n",
    "\n",
    "A CRS tells Python how those coordinates related to places on the Earth. A map projection (or a projected coordinate system) is a systematic transformation of the latitudes and longitudes into a plain surface where units are quite commonly represented as meters (instead of decimal degrees)."
   ]
  },
  {
   "cell_type": "markdown",
   "id": "PdA--RXthrZu",
   "metadata": {
    "id": "PdA--RXthrZu"
   },
   "source": [
    "## Download data\n",
    "\n",
    "For this tutorial we will be using a Shapefile representing Europe. Download and extract [Europe_borders.zip](https://automating-gis-processes.github.io/CSC18/_static/data/L2/Europe_borders.zip) file that contains a Shapefile with following files:"
   ]
  },
  {
   "cell_type": "code",
   "execution_count": null,
   "id": "f1eaf836",
   "metadata": {},
   "outputs": [],
   "source": [
    "!wget https://automating-gis-processes.github.io/CSC18/_static/data/L2/Europe_borders.zip -P {data_store}"
   ]
  },
  {
   "cell_type": "code",
   "execution_count": null,
   "id": "e6096d58",
   "metadata": {},
   "outputs": [],
   "source": [
    "!unzip {data_store}/Europe_borders.zip -d {data_store}"
   ]
  },
  {
   "cell_type": "markdown",
   "id": "bndBlloUhu7a",
   "metadata": {
    "id": "bndBlloUhu7a"
   },
   "source": [
    "## Coordinate reference system (CRS)\n",
    "\n",
    "`GeoDataFrame` that is read from a Shapefile should contain information about the coordinate system in which the data is projected.\n",
    "\n",
    "Let’s start by reading the data from the Europe_borders.shp file."
   ]
  },
  {
   "cell_type": "code",
   "execution_count": null,
   "id": "QN-2aNFVemyM",
   "metadata": {
    "id": "QN-2aNFVemyM"
   },
   "outputs": [],
   "source": [
    "# Filepath to the Europe borders Shapefile\n",
    "fp = data_store / \"Europe_borders.shp\"\n",
    "\n",
    "# Read data\n",
    "data = gpd.read_file(fp)\n",
    "data"
   ]
  },
  {
   "cell_type": "markdown",
   "id": "Q1Cin5iXiHix",
   "metadata": {
    "id": "Q1Cin5iXiHix"
   },
   "source": [
    "We can see the current coordinate reference system from .crs attribute:"
   ]
  },
  {
   "cell_type": "code",
   "execution_count": null,
   "id": "EypoFB6kem04",
   "metadata": {
    "colab": {
     "base_uri": "https://localhost:8080/"
    },
    "id": "EypoFB6kem04",
    "outputId": "d9d2cb06-add9-4b41-fb69-d1e8e9f4a53e"
   },
   "outputs": [],
   "source": [
    "data.crs"
   ]
  },
  {
   "cell_type": "markdown",
   "id": "OBdjpmfTiL-0",
   "metadata": {
    "id": "OBdjpmfTiL-0"
   },
   "source": [
    "From this dictionary we can see that the data is something called `epsg:4326`. The EPSG number (“European Petroleum Survey Group”) is a code that tells about the coordinate system of the dataset. \n",
    "\n",
    "> “EPSG Geodetic Parameter Dataset is a collection of definitions of coordinate reference systems and coordinate transformations which may be global, regional, national or local in application”. \n",
    "\n",
    "\n",
    "EPSG-number `4326` that we have here belongs to the `WGS84` coordinate system (i.e. coordinates are in decimal degrees (lat, lon)).\n",
    "\n",
    "You can find a lot of information about different available coordinate reference systems from:\n",
    "\n",
    "* [www.spatialreference.org]()\n",
    "* [www.proj4.org]()\n",
    "* [www.mapref.org]()\n",
    "\n",
    "Let’s also check the values in our geometry column."
   ]
  },
  {
   "cell_type": "code",
   "execution_count": null,
   "id": "b6Z2FmkXem3T",
   "metadata": {
    "colab": {
     "base_uri": "https://localhost:8080/"
    },
    "id": "b6Z2FmkXem3T",
    "outputId": "77d4428b-9508-4a7d-ecaa-a4e443e8315a"
   },
   "outputs": [],
   "source": [
    "data[\"geometry\"].head()"
   ]
  },
  {
   "cell_type": "markdown",
   "id": "fZNO3yTKijXQ",
   "metadata": {
    "id": "fZNO3yTKijXQ"
   },
   "source": [
    "Okey, so the coordinate values of the Polygons indeed look like lat-lon values.\n",
    "\n",
    "Let’s convert those geometries into Lambert Azimuthal Equal Area projection (`EPSG: 3035`). Changing the projection is really easy to do in Geopandas with .to_crs() -function. As an input for the function, you should define the column containing the geometries, i.e. geometry in this case, and a epgs value of the projection that you want to use."
   ]
  },
  {
   "cell_type": "code",
   "execution_count": null,
   "id": "UN2W-3mwijzX",
   "metadata": {
    "id": "UN2W-3mwijzX"
   },
   "outputs": [],
   "source": [
    "# Let's take a copy of our layer\n",
    "data_proj = data.copy()\n",
    "\n",
    "# Reproject the geometries by replacing the values with projected ones\n",
    "data_proj = data_proj.to_crs(epsg=3035)"
   ]
  },
  {
   "cell_type": "code",
   "execution_count": null,
   "id": "TQs0drHUij52",
   "metadata": {
    "colab": {
     "base_uri": "https://localhost:8080/"
    },
    "id": "TQs0drHUij52",
    "outputId": "f9e994d1-9117-4cc7-90ec-a7c24dd2037a"
   },
   "outputs": [],
   "source": [
    "data_proj[\"geometry\"].head()"
   ]
  },
  {
   "cell_type": "markdown",
   "id": "jO6JXsq6iyVg",
   "metadata": {
    "id": "jO6JXsq6iyVg"
   },
   "source": [
    "And here we go, the numbers have changed! Now we have successfully changed the projection of our layer into a new one, i.e. to ETRS-LAEA projection.\n",
    "\n",
    "To really understand what is going on, it is good to explore our data visually. Hence, let’s compare the datasets by making maps out of them."
   ]
  },
  {
   "cell_type": "code",
   "execution_count": null,
   "id": "d50fyNrqem5z",
   "metadata": {
    "colab": {
     "base_uri": "https://localhost:8080/",
     "height": 957
    },
    "id": "d50fyNrqem5z",
    "outputId": "39075f88-0c4e-430b-c5b0-a50e8cf765a2"
   },
   "outputs": [],
   "source": [
    "import matplotlib.pyplot as plt\n",
    "\n",
    "# Plot the WGS84\n",
    "data.plot(facecolor=\"gray\")\n",
    "\n",
    "# Add title\n",
    "plt.title(\"WGS84 projection\")\n",
    "\n",
    "# Remove empty white space around the plot\n",
    "plt.tight_layout()\n",
    "\n",
    "# Plot the one with ETRS-LAEA projection\n",
    "data_proj.plot(facecolor=\"blue\")\n",
    "\n",
    "# Add title\n",
    "plt.title(\"ETRS Lambert Azimuthal Equal Area projection\")\n",
    "\n",
    "# Remove empty white space around the plot\n",
    "plt.tight_layout()"
   ]
  },
  {
   "cell_type": "markdown",
   "id": "om9gWvm_jFcN",
   "metadata": {
    "id": "om9gWvm_jFcN"
   },
   "source": [
    "Indeed, they look quite different and our re-projected one looks much better in Europe as the areas especially in the north are more realistic and not so stretched as in WGS84.\n",
    "\n",
    "Next, we still need to change the crs of our `GeoDataFrame` into `EPSG 3035` as now we only modified the values of the `geometry` column. We can take use of fiona’s from_epsg -function."
   ]
  },
  {
   "cell_type": "code",
   "execution_count": null,
   "id": "IxZJexfBem8d",
   "metadata": {
    "colab": {
     "base_uri": "https://localhost:8080/"
    },
    "id": "IxZJexfBem8d",
    "outputId": "0d10e8e6-5a0c-40cc-feb8-9877cf23a83c"
   },
   "outputs": [],
   "source": [
    "from fiona.crs import from_epsg\n",
    "\n",
    "# Determine the CRS of the GeoDataFrame\n",
    "data_proj.crs = from_epsg(3035)\n",
    "\n",
    "# Let's see what we have\n",
    "data_proj.crs"
   ]
  },
  {
   "cell_type": "markdown",
   "id": "c0-3nGcsjXmJ",
   "metadata": {
    "id": "c0-3nGcsjXmJ"
   },
   "source": [
    "Finally, let’s save our projected layer into a Shapefile so that we can use it later."
   ]
  },
  {
   "cell_type": "code",
   "execution_count": null,
   "id": "qsh-Qdk5jX5_",
   "metadata": {
    "id": "qsh-Qdk5jX5_"
   },
   "outputs": [],
   "source": [
    "# Ouput file path\n",
    "outfp = data_store / \"Data/Europe_borders_epsg3035.shp\"\n",
    "\n",
    "# Save to disk\n",
    "data_proj.to_file(outfp)"
   ]
  },
  {
   "cell_type": "markdown",
   "id": "McRXOtDGmA13",
   "metadata": {
    "id": "McRXOtDGmA13"
   },
   "source": [
    "# Decoding\n",
    "\n",
    "Geocoding, i.e. converting addresses into coordinates or vice versa, is a really common GIS task. Luckily, in Python there are nice libraries that makes the geocoding really easy. One of the libraries that can do the geocoding for us is `geopy` that makes it easy to locate the coordinates of addresses, cities, countries, and landmarks across the globe using third-party geocoders and other data sources."
   ]
  },
  {
   "cell_type": "markdown",
   "id": "jLoPohmAmOMP",
   "metadata": {
    "id": "jLoPohmAmOMP"
   },
   "source": [
    "It is possible to do geocoding in Geopandas using its integrated functionalities of geopy. Geopandas has a function called `geocode()` that can geocode a list of **addresses (strings)** and return a **GeoDataFrame containing the resulting point objects** in geometry column. Nice, isn’t it! Let’s try this out.\n",
    "\n",
    "Download a text file called [addresses.txt](https://automating-gis-processes.github.io/CSC18/_static/data/L3/addresses.txt) that contains few addresses around Helsinki Region. The first rows of the data looks like following:\n",
    "\n",
    "\n",
    "    id;addr\n",
    "    1000;Itämerenkatu 14, 00101 Helsinki, Finland\n",
    "    1001;Kampinkuja 1, 00100 Helsinki, Finland\n",
    "    1002;Kaivokatu 8, 00101 Helsinki, Finland\n",
    "    1003;Hermannin rantatie 1, 00580 Helsinki, Finland\n"
   ]
  },
  {
   "cell_type": "code",
   "execution_count": null,
   "id": "5a5201c5",
   "metadata": {},
   "outputs": [],
   "source": [
    "!wget https://automating-gis-processes.github.io/CSC18/_static/data/L3/addresses.txt -P {data_store}"
   ]
  },
  {
   "cell_type": "markdown",
   "id": "LtcATXicm4Cb",
   "metadata": {
    "id": "LtcATXicm4Cb"
   },
   "source": [
    "We have an id for each row and an address on column addr.\n",
    "\n",
    "Let’s first read the data into a Pandas DataFrame using read_csv() -function:"
   ]
  },
  {
   "cell_type": "code",
   "execution_count": null,
   "id": "-zgPYHrpmITd",
   "metadata": {
    "id": "-zgPYHrpmITd"
   },
   "outputs": [],
   "source": [
    "# Import necessary modules\n",
    "import pandas as pd\n",
    "import geopandas as gpd\n",
    "from shapely.geometry import Point\n",
    "\n",
    "# Filepath\n",
    "fp = data_store / \"addresses.txt\"\n",
    "\n",
    "# Read the data\n",
    "data = pd.read_csv(fp, sep=\";\")"
   ]
  },
  {
   "cell_type": "code",
   "execution_count": null,
   "id": "EQHnlg8-mIXk",
   "metadata": {
    "colab": {
     "base_uri": "https://localhost:8080/"
    },
    "id": "EQHnlg8-mIXk",
    "outputId": "c859163c-3dad-4985-87d2-35644df72198"
   },
   "outputs": [],
   "source": [
    "len(data)"
   ]
  },
  {
   "cell_type": "code",
   "execution_count": null,
   "id": "a2GjBUsmmIaf",
   "metadata": {
    "colab": {
     "base_uri": "https://localhost:8080/",
     "height": 206
    },
    "id": "a2GjBUsmmIaf",
    "outputId": "a0f36f7c-c64d-47a2-a138-58c947f49e25"
   },
   "outputs": [],
   "source": [
    "# Let's take a look of the data\n",
    "data.head()"
   ]
  },
  {
   "cell_type": "markdown",
   "id": "k-1Lpq5xnRME",
   "metadata": {
    "id": "k-1Lpq5xnRME"
   },
   "source": [
    "Now we have our data in a Pandas DataFrame and we can geocode our addresses.\n",
    "\n"
   ]
  },
  {
   "cell_type": "code",
   "execution_count": null,
   "id": "msNDli0BmId0",
   "metadata": {
    "id": "msNDli0BmId0"
   },
   "outputs": [],
   "source": [
    "# Import the geocoding tool\n",
    "from geopandas.tools import geocode\n",
    "\n",
    "# Geocode addresses using Nominatim.\n",
    "# You can provide your own\n",
    "geo = geocode(\n",
    "    data[\"addr\"], provider=\"nominatim\", user_agent=\"pythongis_book\", timeout=10\n",
    ")"
   ]
  },
  {
   "cell_type": "code",
   "execution_count": null,
   "id": "25mzXZc9ZzNW",
   "metadata": {
    "id": "25mzXZc9ZzNW"
   },
   "outputs": [],
   "source": [
    "?geocode"
   ]
  },
  {
   "cell_type": "code",
   "execution_count": null,
   "id": "lchYBXVKmIfd",
   "metadata": {
    "colab": {
     "base_uri": "https://localhost:8080/",
     "height": 112
    },
    "id": "lchYBXVKmIfd",
    "outputId": "e12b1fda-77f8-4c28-b6d7-afb63f9a7e81"
   },
   "outputs": [],
   "source": [
    "geo.head(2)"
   ]
  },
  {
   "cell_type": "markdown",
   "id": "j5Jb7xZYnkGj",
   "metadata": {
    "id": "j5Jb7xZYnkGj"
   },
   "source": [
    "And Voilà! As a result we have a `GeoDataFrame` that contains our original address and a `geometry` column containing Shapely Point objects that we can use for exporting the addresses to a `Shapefile` for example. However, the `id` column is not there. Thus, we need to join the information from data into our new `GeoDataFrame` geo, thus making a Table Join.\n",
    "\n",
    "In this case, we can join the information using the .join() function because the original data frame and the geocoded output have an identical index and an identical number of rows."
   ]
  },
  {
   "cell_type": "code",
   "execution_count": null,
   "id": "PftZ2N6XmIg2",
   "metadata": {
    "id": "PftZ2N6XmIg2"
   },
   "outputs": [],
   "source": [
    "join = geo.join(data)"
   ]
  },
  {
   "cell_type": "code",
   "execution_count": null,
   "id": "cz432GNJmIid",
   "metadata": {
    "colab": {
     "base_uri": "https://localhost:8080/",
     "height": 206
    },
    "id": "cz432GNJmIid",
    "outputId": "e35dd751-7a4f-49ac-9899-c374aec3fc7d"
   },
   "outputs": [],
   "source": [
    "join.head()"
   ]
  },
  {
   "cell_type": "markdown",
   "id": "gpWPLY8ioLJA",
   "metadata": {
    "id": "gpWPLY8ioLJA"
   },
   "source": [
    "Let’s also check the data type of our new join table."
   ]
  },
  {
   "cell_type": "code",
   "execution_count": null,
   "id": "hTGskY2boMtZ",
   "metadata": {
    "colab": {
     "base_uri": "https://localhost:8080/"
    },
    "id": "hTGskY2boMtZ",
    "outputId": "ad574586-89ed-4734-82b0-64f19eb8f5ba"
   },
   "outputs": [],
   "source": [
    "type(join)"
   ]
  },
  {
   "cell_type": "markdown",
   "id": "O0UOAgEeoQYk",
   "metadata": {
    "id": "O0UOAgEeoQYk"
   },
   "source": [
    "As a result we have a new GeoDataFrame called join where we now have all original columns plus a new column for geometry.\n",
    "\n",
    "Now it is easy to save our address points into a Shapefile\n"
   ]
  },
  {
   "cell_type": "code",
   "execution_count": null,
   "id": "0AQQqvRHoWaF",
   "metadata": {
    "id": "0AQQqvRHoWaF"
   },
   "outputs": [],
   "source": [
    "# Output file path\n",
    "outfp = data_store / \"addresses.shp\"\n",
    "\n",
    "# Save to Shapefile\n",
    "join.to_file(outfp)"
   ]
  },
  {
   "cell_type": "markdown",
   "id": "X6Qe3lX4ogkP",
   "metadata": {
    "id": "X6Qe3lX4ogkP"
   },
   "source": [
    "That’s it. Now we have successfully geocoded those addresses into Points and made a Shapefile out of them. Easy isn’t it! Let’s still take a look how our data looks like."
   ]
  },
  {
   "cell_type": "code",
   "execution_count": null,
   "id": "mUzwx2xFoWfB",
   "metadata": {
    "colab": {
     "base_uri": "https://localhost:8080/",
     "height": 487
    },
    "id": "mUzwx2xFoWfB",
    "outputId": "f4fc2f01-539c-4078-d2c6-972a35504b8b"
   },
   "outputs": [],
   "source": [
    "join.plot()\n",
    "plt.tight_layout();"
   ]
  },
  {
   "cell_type": "markdown",
   "id": "486a9000",
   "metadata": {
    "id": "486a9000"
   },
   "source": [
    "# Operations between multiple datasets\n",
    "\n",
    "<!---\n",
    "- Selecting data based on spatial relationships\n",
    "- Overlay analysis\n",
    "- Spatial join, nearest join\n",
    "- Distance operations\n",
    "- Spatial index\n",
    "-->"
   ]
  },
  {
   "cell_type": "markdown",
   "id": "dc15b0ab",
   "metadata": {
    "id": "dc15b0ab"
   },
   "source": [
    "## Selecting data based on spatial relationships\n",
    "\n",
    "Finding out if a certain point is located inside or outside of an area,\n",
    "or finding out if a line intersects with another line or polygon are\n",
    "fundamental geospatial operations that are often used e.g. to select\n",
    "data based on location. Such spatial queries are one of the typical\n",
    "first steps of the workflow when doing spatial analysis. Performing a\n",
    "spatial join (will be introduced later) between two spatial datasets is\n",
    "one of the most typical applications where Point in Polygon (PIP) query\n",
    "is used.\n",
    "\n",
    "For further reading about PIP and other geometric operations,\n",
    "see Chapter 4.2 in Smith, Goodchild & Longley: [Geospatial Analysis - 6th edition](https://www.spatialanalysisonline.com/HTML/index.html)."
   ]
  },
  {
   "cell_type": "markdown",
   "id": "29d7a295",
   "metadata": {
    "id": "29d7a295"
   },
   "source": [
    "### How to check if point is inside a polygon?\n",
    "\n",
    "Computationally, detecting if a point is inside a polygon is most commonly done using a specific formula called [Ray Casting algorithm](https://en.wikipedia.org/wiki/Point_in_polygon#Ray_casting_algorithm).\n",
    "Luckily, we do not need to create such a function ourselves for\n",
    "conducting the Point in Polygon (PIP) query. Instead, we can take\n",
    "advantage of [Shapely's binary predicates](https://shapely.readthedocs.io/en/stable/manual.html#binary-predicates)\n",
    "that can evaluate the topolocical relationships between geographical\n",
    "objects, such as the PIP as we're interested here.\n",
    "\n",
    "There are basically two ways of conducting PIP in Shapely:\n",
    "\n",
    "1. using a function called\n",
    "   [within()](https://shapely.readthedocs.io/en/stable/manual.html#object.within)\n",
    "   that checks if a point is within a polygon\n",
    "2. using a function called\n",
    "   [contains()](https://shapely.readthedocs.io/en/stable/manual.html#object.contains)\n",
    "   that checks if a polygon contains a point\n",
    "\n",
    "Notice: even though we are talking here about **Point** in Polygon\n",
    "operation, it is also possible to check if a LineString or Polygon is\n",
    "inside another Polygon.\n",
    "\n",
    "Let's import shapely functionalities and create some points:"
   ]
  },
  {
   "cell_type": "code",
   "execution_count": null,
   "id": "b977ca47",
   "metadata": {
    "id": "b977ca47"
   },
   "outputs": [],
   "source": [
    "from shapely.geometry import Point, Polygon\n",
    "\n",
    "# Create Point objects\n",
    "p1 = Point(24.952242, 60.1696017)\n",
    "p2 = Point(24.976567, 60.1612500)"
   ]
  },
  {
   "cell_type": "markdown",
   "id": "96aeb5cf",
   "metadata": {
    "id": "96aeb5cf"
   },
   "source": [
    "Let's also create a polygon using a list of coordinate-tuples:"
   ]
  },
  {
   "cell_type": "code",
   "execution_count": null,
   "id": "087850cd",
   "metadata": {
    "deletable": true,
    "editable": true,
    "id": "087850cd",
    "jupyter": {
     "outputs_hidden": false
    }
   },
   "outputs": [],
   "source": [
    "# Create a Polygon\n",
    "coords = [\n",
    "    (24.950899, 60.169158),\n",
    "    (24.953492, 60.169158),\n",
    "    (24.953510, 60.170104),\n",
    "    (24.950958, 60.169990),\n",
    "]\n",
    "poly = Polygon(coords)"
   ]
  },
  {
   "cell_type": "code",
   "execution_count": null,
   "id": "eb70a5f8",
   "metadata": {
    "colab": {
     "base_uri": "https://localhost:8080/"
    },
    "id": "eb70a5f8",
    "outputId": "2b88dc3a-4ed1-43c3-e702-cfadb0c8a981"
   },
   "outputs": [],
   "source": [
    "# Let's check what we have\n",
    "print(p1)\n",
    "print(p2)\n",
    "print(poly)"
   ]
  },
  {
   "cell_type": "markdown",
   "id": "7bb32053",
   "metadata": {
    "deletable": true,
    "editable": true,
    "id": "7bb32053"
   },
   "source": [
    "- Let's check if those points are ``within`` the polygon:"
   ]
  },
  {
   "cell_type": "code",
   "execution_count": null,
   "id": "48ee117c",
   "metadata": {
    "colab": {
     "base_uri": "https://localhost:8080/"
    },
    "id": "48ee117c",
    "outputId": "51b90913-6abc-4ab4-ae0d-da515216826b"
   },
   "outputs": [],
   "source": [
    "# Check if p1 is within the polygon using the within function\n",
    "p1.within(poly)"
   ]
  },
  {
   "cell_type": "code",
   "execution_count": null,
   "id": "3d48f024",
   "metadata": {
    "colab": {
     "base_uri": "https://localhost:8080/"
    },
    "deletable": true,
    "editable": true,
    "id": "3d48f024",
    "jupyter": {
     "outputs_hidden": false
    },
    "outputId": "daae00b1-62f1-4eff-912d-d3caa9dc34e8"
   },
   "outputs": [],
   "source": [
    "# Check if p2 is within the polygon\n",
    "p2.within(poly)"
   ]
  },
  {
   "cell_type": "markdown",
   "id": "69eed617",
   "metadata": {
    "deletable": true,
    "editable": true,
    "id": "69eed617"
   },
   "source": [
    "Okey, so we can see that the first point seems to be inside that polygon\n",
    "and the other one isn't.\n",
    "\n",
    "-In fact, the first point is quite close to close to the center of the polygon as we\n",
    "can see if we compare the point location to the polygon centroid:"
   ]
  },
  {
   "cell_type": "code",
   "execution_count": null,
   "id": "a8c74ce6",
   "metadata": {
    "colab": {
     "base_uri": "https://localhost:8080/"
    },
    "deletable": true,
    "editable": true,
    "id": "a8c74ce6",
    "jupyter": {
     "outputs_hidden": false
    },
    "outputId": "bfd69095-ee45-48eb-b7fa-681643d7d746"
   },
   "outputs": [],
   "source": [
    "# Our point\n",
    "print(p1)\n",
    "\n",
    "# The centroid\n",
    "print(poly.centroid)"
   ]
  },
  {
   "cell_type": "markdown",
   "id": "a6256cf7",
   "metadata": {
    "deletable": true,
    "editable": true,
    "id": "a6256cf7"
   },
   "source": [
    "It is also possible to do PIP other way around, i.e. to check if\n",
    "polygon contains a point:"
   ]
  },
  {
   "cell_type": "code",
   "execution_count": null,
   "id": "8435ee3e",
   "metadata": {
    "colab": {
     "base_uri": "https://localhost:8080/"
    },
    "id": "8435ee3e",
    "outputId": "948bb9c3-815e-4aab-e8b8-c7a85cd310c9"
   },
   "outputs": [],
   "source": [
    "# Does polygon contain p1?\n",
    "poly.contains(p1)"
   ]
  },
  {
   "cell_type": "code",
   "execution_count": null,
   "id": "fe4555d0",
   "metadata": {
    "colab": {
     "base_uri": "https://localhost:8080/"
    },
    "deletable": true,
    "editable": true,
    "id": "fe4555d0",
    "jupyter": {
     "outputs_hidden": false
    },
    "outputId": "7e9cd3db-80f0-4257-c67c-920506986c1d"
   },
   "outputs": [],
   "source": [
    "# Does polygon contain p2?\n",
    "poly.contains(p2)"
   ]
  },
  {
   "cell_type": "markdown",
   "id": "64e1f373",
   "metadata": {
    "deletable": true,
    "editable": true,
    "id": "64e1f373"
   },
   "source": [
    "Thus, both ways of checking the spatial relationship are identical; [contains()](https://shapely.readthedocs.io/en/stable/manual.html#object.contains) is inverse to [within()](https://shapely.readthedocs.io/en/stable/manual.html#object.within) and vice versa.\n",
    "\n",
    "Which one should you use then? Well, it depends:\n",
    "\n",
    "-  if you have **many points and just one polygon** and you try to find out\n",
    "   which one of them is inside the polygon: You might need to iterate over the points and check one at a time if it\n",
    "   is **within()** the polygon.\n",
    "\n",
    "-  if you have **many polygons and just one point** and you want to find out\n",
    "   which polygon contains the point: You might need to iterate over the polygons until you find a polygon that **contains()** the point specified (assuming there are no overlapping polygons)"
   ]
  },
  {
   "cell_type": "markdown",
   "id": "54ebd563",
   "metadata": {
    "id": "54ebd563"
   },
   "source": [
    "## Intersect\n",
    "\n",
    "Another typical geospatial operation is to see if a geometry intersects\n",
    "or touches another one. Again, there are binary operations in Shapely for checking these spatial relationships:\n",
    "\n",
    "- [intersects():](https://shapely.readthedocs.io/en/stable/manual.html#object.intersects) Two objects intersect if the boundary or interior of one object intersect in any way with the boundary or interior of the other object.\n",
    "\n",
    "- [touches():](https://shapely.readthedocs.io/en/stable/manual.html#object.touches) Two objects touch if the objects have at least one point in common and their interiors do not intersect with any part of the other object.\n",
    "   \n",
    "\n",
    "Let's try these out.\n",
    "\n",
    "Let's create two LineStrings:"
   ]
  },
  {
   "cell_type": "code",
   "execution_count": null,
   "id": "1126f8bf",
   "metadata": {
    "deletable": true,
    "editable": true,
    "id": "1126f8bf"
   },
   "outputs": [],
   "source": [
    "from shapely.geometry import LineString, MultiLineString\n",
    "\n",
    "# Create two lines\n",
    "line_a = LineString([(0, 0), (1, 1)])\n",
    "line_b = LineString([(1, 1), (0, 2)])"
   ]
  },
  {
   "cell_type": "markdown",
   "id": "47efbc05",
   "metadata": {
    "deletable": true,
    "editable": true,
    "id": "47efbc05"
   },
   "source": [
    "Let's see if they intersect"
   ]
  },
  {
   "cell_type": "code",
   "execution_count": null,
   "id": "eade991d",
   "metadata": {
    "colab": {
     "base_uri": "https://localhost:8080/"
    },
    "deletable": true,
    "editable": true,
    "id": "eade991d",
    "jupyter": {
     "outputs_hidden": false
    },
    "outputId": "9ac5ee7b-fb46-4263-c318-071d55c12cb6"
   },
   "outputs": [],
   "source": [
    "line_a.intersects(line_b)"
   ]
  },
  {
   "cell_type": "markdown",
   "id": "a742c29f",
   "metadata": {
    "deletable": true,
    "editable": true,
    "id": "a742c29f"
   },
   "source": [
    "Do they also touch?"
   ]
  },
  {
   "cell_type": "code",
   "execution_count": null,
   "id": "f1334504",
   "metadata": {
    "colab": {
     "base_uri": "https://localhost:8080/"
    },
    "deletable": true,
    "editable": true,
    "id": "f1334504",
    "jupyter": {
     "outputs_hidden": false
    },
    "outputId": "b8320da2-b08c-40f1-fe73-ea4bbded93ac"
   },
   "outputs": [],
   "source": [
    "line_a.touches(line_b)"
   ]
  },
  {
   "cell_type": "markdown",
   "id": "0fcbd48f",
   "metadata": {
    "deletable": true,
    "editable": true,
    "id": "0fcbd48f"
   },
   "source": [
    "Indeed, they do and we can see this by plotting the features together"
   ]
  },
  {
   "cell_type": "code",
   "execution_count": null,
   "id": "530bf98b",
   "metadata": {
    "colab": {
     "base_uri": "https://localhost:8080/",
     "height": 121
    },
    "deletable": true,
    "editable": true,
    "id": "530bf98b",
    "jupyter": {
     "outputs_hidden": false
    },
    "outputId": "ec24205f-086c-4f92-d437-a9d6a0aaf96d"
   },
   "outputs": [],
   "source": [
    "# Create a MultiLineString from line_a and line_b\n",
    "multi_line = MultiLineString([line_a, line_b])\n",
    "multi_line"
   ]
  },
  {
   "cell_type": "markdown",
   "id": "c84fc08e",
   "metadata": {
    "deletable": true,
    "editable": true,
    "id": "c84fc08e"
   },
   "source": [
    "Thus, the ``line_b`` continues from the same node ( (1,1) ) where ``line_a`` ends.\n",
    "\n",
    "However, if the lines overlap fully, they don't touch due to the spatial relationship rule, as we can see:\n",
    "\n",
    "Check if `line_a` touches itself:"
   ]
  },
  {
   "cell_type": "code",
   "execution_count": null,
   "id": "2e903de8",
   "metadata": {
    "colab": {
     "base_uri": "https://localhost:8080/"
    },
    "deletable": true,
    "editable": true,
    "id": "2e903de8",
    "jupyter": {
     "outputs_hidden": false
    },
    "outputId": "0421d0dd-49fe-400e-ed6d-2196681a0ab5"
   },
   "outputs": [],
   "source": [
    "# Does the line touch with itself?\n",
    "line_a.touches(line_a)"
   ]
  },
  {
   "cell_type": "markdown",
   "id": "5d6dfb3e",
   "metadata": {
    "deletable": true,
    "editable": true,
    "id": "5d6dfb3e"
   },
   "source": [
    "It does not. However, it does intersect:"
   ]
  },
  {
   "cell_type": "code",
   "execution_count": null,
   "id": "8ec8cd3e",
   "metadata": {
    "colab": {
     "base_uri": "https://localhost:8080/"
    },
    "deletable": true,
    "editable": true,
    "id": "8ec8cd3e",
    "jupyter": {
     "outputs_hidden": false
    },
    "outputId": "e2f179a6-d7ef-4108-99e7-c81663238be4"
   },
   "outputs": [],
   "source": [
    "# Does the line intersect with itself?\n",
    "line_a.intersects(line_a)"
   ]
  },
  {
   "cell_type": "markdown",
   "id": "e2018d24",
   "metadata": {
    "id": "e2018d24"
   },
   "source": [
    "## Spatial join\n",
    "\n",
    "[Spatial join](http://wiki.gis.com/wiki/index.php/Spatial_Join) is\n",
    "yet another classic GIS problem. Getting attributes from one layer and\n",
    "transferring them into another layer based on their spatial relationship\n",
    "is something you most likely need to do on a regular basis.\n",
    "\n",
    "In the previous section we learned how to perform **a Point in Polygon query**.\n",
    "We can now use the same logic to conduct **a spatial join** between two layers based on their\n",
    "spatial relationship. We could, for example, join the attributes of a polygon layer into a point layer where each point would get the\n",
    "attributes of a polygon that ``contains`` the point.\n",
    "\n",
    "Luckily, [spatial join is already implemented in Geopandas](http://geopandas.org/mergingdata.html#spatial-joins), thus we do not need to create our own function for doing it. There are three possible types of\n",
    "join that can be applied in spatial join that are determined with ``op`` -parameter in the ``gpd.sjoin()`` -function:\n",
    "\n",
    "-  ``\"intersects\"``\n",
    "-  ``\"within\"``\n",
    "-  ``\"contains\"``\n",
    "\n",
    "Sounds familiar? Yep, all of those spatial relationships were discussed\n",
    "in the [Point in Polygon lesson](point-in-polygon.ipynb), thus you should know how they work.\n",
    "\n",
    "Furthermore, pay attention to the different options for the type of join via the `how` parameter; \"left\", \"right\" and \"inner\". You can read more about these options in the [geopandas sjoin documentation](http://geopandas.org/mergingdata.html#sjoin-arguments) and pandas guide for [merge, join and concatenate](https://pandas.pydata.org/pandas-docs/stable/user_guide/merging.html)\n",
    "\n",
    "Let's perform a spatial join between these two layers:\n",
    "- **Addresses:** the geocoded address-point (we created this Shapefile in the geocoding tutorial)\n",
    "- **Population grid:** 250m x 250m grid polygon layer that contains population information from the Helsinki Region.\n",
    "    - The population grid a dataset is produced by the **Helsinki Region Environmental\n",
    "Services Authority (HSY)** (see [this page](https://www.hsy.fi/fi/asiantuntijalle/avoindata/Sivut/AvoinData.aspx?dataID=7) to access data from different years).\n",
    "    - You can download the data from [from this link](https://www.hsy.fi/sites/AvoinData/AvoinData/SYT/Tietoyhteistyoyksikko/Shape%20(Esri)/V%C3%A4est%C3%B6tietoruudukko/Vaestotietoruudukko_2018_SHP.zip) in the  [Helsinki Region Infroshare\n",
    "(HRI) open data portal](https://hri.fi/en_gb/).\n"
   ]
  },
  {
   "cell_type": "markdown",
   "id": "7afec855",
   "metadata": {
    "id": "7afec855"
   },
   "source": [
    "- Here, we will access the data directly from the HSY wfs:\n",
    "\n",
    "<!-- #endregion -->"
   ]
  },
  {
   "cell_type": "code",
   "execution_count": null,
   "id": "uowhKbiILUIZ",
   "metadata": {
    "colab": {
     "base_uri": "https://localhost:8080/"
    },
    "id": "uowhKbiILUIZ",
    "outputId": "568a905d-c4aa-4070-e7fa-a596c61d6790"
   },
   "outputs": [],
   "source": [
    "!pip install geojson"
   ]
  },
  {
   "cell_type": "code",
   "execution_count": null,
   "id": "3b8f459c",
   "metadata": {
    "id": "3b8f459c"
   },
   "outputs": [],
   "source": [
    "import geopandas as gpd\n",
    "from pyproj import CRS\n",
    "import requests\n",
    "import geojson\n",
    "\n",
    "# Specify the url for web feature service\n",
    "url = \"https://kartta.hsy.fi/geoserver/wfs\"\n",
    "\n",
    "# Specify parameters (read data in json format).\n",
    "# Available feature types in this particular data source: http://geo.stat.fi/geoserver/vaestoruutu/wfs?service=wfs&version=2.0.0&request=describeFeatureType\n",
    "params = dict(\n",
    "    service=\"WFS\",\n",
    "    version=\"2.0.0\",\n",
    "    request=\"GetFeature\",\n",
    "    typeName=\"asuminen_ja_maankaytto:Vaestotietoruudukko_2018\",\n",
    "    outputFormat=\"json\",\n",
    ")\n",
    "\n",
    "# Fetch data from WFS using requests\n",
    "r = requests.get(url, params=params)\n",
    "\n",
    "# Create GeoDataFrame from geojson\n",
    "pop = gpd.GeoDataFrame.from_features(geojson.loads(r.content))"
   ]
  },
  {
   "cell_type": "markdown",
   "id": "385e5abb",
   "metadata": {
    "id": "385e5abb"
   },
   "source": [
    "Check the result:"
   ]
  },
  {
   "cell_type": "code",
   "execution_count": null,
   "id": "9e782638",
   "metadata": {
    "colab": {
     "base_uri": "https://localhost:8080/",
     "height": 424
    },
    "id": "9e782638",
    "outputId": "35f4292e-0425-4b02-8db1-bd13890d5167"
   },
   "outputs": [],
   "source": [
    "pop.head()"
   ]
  },
  {
   "cell_type": "markdown",
   "id": "fba21f2b",
   "metadata": {
    "id": "fba21f2b"
   },
   "source": [
    "Okey so we have multiple columns in the dataset but the most important\n",
    "one here is the column `asukkaita` (\"population\" in Finnish) that\n",
    "tells the amount of inhabitants living under that polygon.\n",
    "\n",
    "-  Let's change the name of that column into `pop18` so that it is\n",
    "   more intuitive. As you might remember, we can easily rename (Geo)DataFrame column names using the ``rename()`` function where we pass a dictionary of new column names like this: ``columns={'oldname': 'newname'}``."
   ]
  },
  {
   "cell_type": "code",
   "execution_count": null,
   "id": "85e3f003",
   "metadata": {
    "colab": {
     "base_uri": "https://localhost:8080/"
    },
    "id": "85e3f003",
    "outputId": "dd25f362-b1a7-4d11-d8d5-aa4e0938ce3d"
   },
   "outputs": [],
   "source": [
    "# Change the name of a column\n",
    "pop = pop.rename(columns={\"asukkaita\": \"pop18\"})\n",
    "\n",
    "# Check the column names\n",
    "pop.columns"
   ]
  },
  {
   "cell_type": "markdown",
   "id": "e07bbb3a",
   "metadata": {
    "id": "e07bbb3a"
   },
   "source": [
    "Let's also get rid of all unnecessary columns by selecting only columns that we need i.e. ``pop18`` and ``geometry``"
   ]
  },
  {
   "cell_type": "code",
   "execution_count": null,
   "id": "49dd94d2",
   "metadata": {
    "id": "49dd94d2"
   },
   "outputs": [],
   "source": [
    "# Subset columns\n",
    "pop = pop[[\"pop18\", \"geometry\"]]"
   ]
  },
  {
   "cell_type": "code",
   "execution_count": null,
   "id": "59d0b0b1",
   "metadata": {
    "colab": {
     "base_uri": "https://localhost:8080/",
     "height": 337
    },
    "id": "59d0b0b1",
    "outputId": "2d6917a6-4eb6-483c-e91b-6f5409ffc993"
   },
   "outputs": [],
   "source": [
    "pop.head()"
   ]
  },
  {
   "cell_type": "markdown",
   "id": "H3Neuw9ieurS",
   "metadata": {
    "id": "H3Neuw9ieurS"
   },
   "source": [
    "References:\n",
    "\n",
    "https://pythongis.org/index.html\n",
    "\n",
    "https://automating-gis-processes.github.io/CSC18/index.html"
   ]
  },
  {
   "cell_type": "markdown",
   "id": "bWlgTmMWevVr",
   "metadata": {
    "id": "bWlgTmMWevVr"
   },
   "source": [
    "---"
   ]
  }
 ],
 "metadata": {
  "colab": {
   "collapsed_sections": [
    "9b4ee3e0",
    "98c064a1"
   ],
   "provenance": []
  },
  "kernelspec": {
   "display_name": "Python 3 (ipykernel)",
   "language": "python",
   "name": "python3"
  },
  "language_info": {
   "codemirror_mode": {
    "name": "ipython",
    "version": 3
   },
   "file_extension": ".py",
   "mimetype": "text/x-python",
   "name": "python",
   "nbconvert_exporter": "python",
   "pygments_lexer": "ipython3",
   "version": "3.10.12"
  }
 },
 "nbformat": 4,
 "nbformat_minor": 5
}
